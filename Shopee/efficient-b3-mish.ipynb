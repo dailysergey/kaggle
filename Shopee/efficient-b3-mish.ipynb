{
 "cells": [
  {
   "cell_type": "markdown",
   "id": "biblical-track",
   "metadata": {
    "papermill": {
     "duration": 0.010392,
     "end_time": "2021-04-28T11:05:52.154489",
     "exception": false,
     "start_time": "2021-04-28T11:05:52.144097",
     "status": "completed"
    },
    "tags": []
   },
   "source": [
    "# About Notebook\n",
    "\n",
    "* Thanks to PyTorch Arcface Implementation by @tanulsingh077 from [here](https://www.kaggle.com/tanulsingh077/pytorch-metric-learning-pipeline-only-images)\n",
    "\n",
    "* One can train any EfficientNet(b0-b7) model by changing `model_name` in **CFG**.\n",
    "\n",
    "* Inference Notebook for the same can be found [here](https://www.kaggle.com/vatsalmavani/eff-b4-tfidf-0-727)\n",
    "\n",
    "#### **NOTE:** \n",
    "*     If you are using kaggle GPU, you must have to change `batch_size`. In addition, you also have to change `CFG.lr_max = 1e-5 * 32`"
   ]
  },
  {
   "cell_type": "markdown",
   "id": "continued-presence",
   "metadata": {
    "papermill": {
     "duration": 0.008771,
     "end_time": "2021-04-28T11:05:52.172459",
     "exception": false,
     "start_time": "2021-04-28T11:05:52.163688",
     "status": "completed"
    },
    "tags": []
   },
   "source": [
    "# Import Packages"
   ]
  },
  {
   "cell_type": "code",
   "execution_count": 1,
   "id": "tropical-import",
   "metadata": {
    "execution": {
     "iopub.execute_input": "2021-04-28T11:05:52.195796Z",
     "iopub.status.busy": "2021-04-28T11:05:52.194126Z",
     "iopub.status.idle": "2021-04-28T11:05:52.198937Z",
     "shell.execute_reply": "2021-04-28T11:05:52.198370Z"
    },
    "papermill": {
     "duration": 0.017588,
     "end_time": "2021-04-28T11:05:52.199051",
     "exception": false,
     "start_time": "2021-04-28T11:05:52.181463",
     "status": "completed"
    },
    "tags": []
   },
   "outputs": [],
   "source": [
    "import sys\n",
    "sys.path.append('../input/utils-shopee')\n",
    "sys.path.append('../input/timm-pytorch-image-models/pytorch-image-models-master')"
   ]
  },
  {
   "cell_type": "code",
   "execution_count": 2,
   "id": "lined-brain",
   "metadata": {
    "execution": {
     "iopub.execute_input": "2021-04-28T11:05:52.222543Z",
     "iopub.status.busy": "2021-04-28T11:05:52.222027Z",
     "iopub.status.idle": "2021-04-28T11:05:56.556181Z",
     "shell.execute_reply": "2021-04-28T11:05:56.555123Z"
    },
    "papermill": {
     "duration": 4.348144,
     "end_time": "2021-04-28T11:05:56.556352",
     "exception": false,
     "start_time": "2021-04-28T11:05:52.208208",
     "status": "completed"
    },
    "tags": []
   },
   "outputs": [],
   "source": [
    "import math\n",
    "import numpy as np\n",
    "import pandas as pd\n",
    "\n",
    "\n",
    "import os\n",
    "import cv2 \n",
    "import timm\n",
    "import albumentations \n",
    "from albumentations.pytorch.transforms import ToTensorV2\n",
    "\n",
    "import torch\n",
    "from torch import nn \n",
    "import torch.nn.functional as F \n",
    "from torch.optim.optimizer import Optimizer\n",
    "from torch.optim.lr_scheduler import _LRScheduler\n",
    "\n",
    "import engine\n",
    "from dataset import ShopeeDataset\n",
    "from custom_scheduler import ShopeeScheduler\n",
    "from augmentations import get_train_transforms\n",
    "\n",
    "from tqdm.notebook import tqdm \n",
    "from sklearn.preprocessing import LabelEncoder"
   ]
  },
  {
   "cell_type": "markdown",
   "id": "automated-master",
   "metadata": {
    "papermill": {
     "duration": 0.009339,
     "end_time": "2021-04-28T11:05:56.575605",
     "exception": false,
     "start_time": "2021-04-28T11:05:56.566266",
     "status": "completed"
    },
    "tags": []
   },
   "source": [
    "# Config and Directories"
   ]
  },
  {
   "cell_type": "code",
   "execution_count": 3,
   "id": "adult-partition",
   "metadata": {
    "execution": {
     "iopub.execute_input": "2021-04-28T11:05:57.100076Z",
     "iopub.status.busy": "2021-04-28T11:05:57.093925Z",
     "iopub.status.idle": "2021-04-28T11:05:57.101586Z",
     "shell.execute_reply": "2021-04-28T11:05:57.100786Z"
    },
    "papermill": {
     "duration": 0.516937,
     "end_time": "2021-04-28T11:05:57.101764",
     "exception": false,
     "start_time": "2021-04-28T11:05:56.584827",
     "status": "completed"
    },
    "tags": []
   },
   "outputs": [],
   "source": [
    "DATA_DIR = '../input/shopee-product-matching/train_images'\n",
    "TRAIN_CSV = '../input/utils-shopee/folds.csv'\n",
    "MODEL_PATH = './'\n",
    "\n",
    "\n",
    "class CFG:\n",
    "    seed = 2021\n",
    "    img_size = 512\n",
    "    classes = 11014\n",
    "    \n",
    "    scale = 30\n",
    "    margin = 0.5\n",
    "    \n",
    "    fc_dim = 512\n",
    "    epochs = 15\n",
    "    batch_size = 8\n",
    "    num_workers = 4\n",
    "    \n",
    "    model_name = 'efficientnet_b3'\n",
    "    \n",
    "    device = 'cuda' if torch.cuda.is_available() else 'cpu'\n",
    "    scheduler_params = {\n",
    "        \"lr_start\": 1e-5,\n",
    "        \"lr_max\": 1e-5 * 32,     # 1e-5 * 32 (if batch_size(=32) is different then)\n",
    "        \"lr_min\": 1e-6,\n",
    "        \"lr_ramp_ep\": 5,\n",
    "        \"lr_sus_ep\": 0,\n",
    "        \"lr_decay\": 0.8,\n",
    "    }"
   ]
  },
  {
   "cell_type": "markdown",
   "id": "international-aggregate",
   "metadata": {
    "papermill": {
     "duration": 0.013263,
     "end_time": "2021-04-28T11:05:57.133330",
     "exception": false,
     "start_time": "2021-04-28T11:05:57.120067",
     "status": "completed"
    },
    "tags": []
   },
   "source": [
    "# Ranger Optimizer"
   ]
  },
  {
   "cell_type": "code",
   "execution_count": 4,
   "id": "caring-victorian",
   "metadata": {
    "execution": {
     "iopub.execute_input": "2021-04-28T11:05:57.180165Z",
     "iopub.status.busy": "2021-04-28T11:05:57.173677Z",
     "iopub.status.idle": "2021-04-28T11:05:57.207816Z",
     "shell.execute_reply": "2021-04-28T11:05:57.208741Z"
    },
    "papermill": {
     "duration": 0.060486,
     "end_time": "2021-04-28T11:05:57.208925",
     "exception": false,
     "start_time": "2021-04-28T11:05:57.148439",
     "status": "completed"
    },
    "tags": []
   },
   "outputs": [],
   "source": [
    "#credit : https://github.com/Yonghongwei/Gradient-Centralization\n",
    "\n",
    "def centralized_gradient(x, use_gc=True, gc_conv_only=False):\n",
    "    if use_gc:\n",
    "        if gc_conv_only:\n",
    "            if len(list(x.size())) > 3:\n",
    "                x.add_(-x.mean(dim=tuple(range(1, len(list(x.size())))), keepdim=True))\n",
    "        else:\n",
    "            if len(list(x.size())) > 1:\n",
    "                x.add_(-x.mean(dim=tuple(range(1, len(list(x.size())))), keepdim=True))\n",
    "    return x\n",
    "\n",
    "\n",
    "class Ranger(Optimizer):\n",
    "\n",
    "    def __init__(self, params, lr=1e-3,                       # lr\n",
    "                 alpha=0.5, k=5, N_sma_threshhold=5,           # Ranger options\n",
    "                 betas=(.95, 0.999), eps=1e-5, weight_decay=0,  # Adam options\n",
    "                 # Gradient centralization on or off, applied to conv layers only or conv + fc layers\n",
    "                 use_gc=True, gc_conv_only=False, gc_loc=True\n",
    "                 ):\n",
    "\n",
    "        # parameter checks\n",
    "        if not 0.0 <= alpha <= 1.0:\n",
    "            raise ValueError(f'Invalid slow update rate: {alpha}')\n",
    "        if not 1 <= k:\n",
    "            raise ValueError(f'Invalid lookahead steps: {k}')\n",
    "        if not lr > 0:\n",
    "            raise ValueError(f'Invalid Learning Rate: {lr}')\n",
    "        if not eps > 0:\n",
    "            raise ValueError(f'Invalid eps: {eps}')\n",
    "\n",
    "        # parameter comments:\n",
    "        # beta1 (momentum) of .95 seems to work better than .90...\n",
    "        # N_sma_threshold of 5 seems better in testing than 4.\n",
    "        # In both cases, worth testing on your dataset (.90 vs .95, 4 vs 5) to make sure which works best for you.\n",
    "\n",
    "        # prep defaults and init torch.optim base\n",
    "        defaults = dict(lr=lr, alpha=alpha, k=k, step_counter=0, betas=betas,\n",
    "                        N_sma_threshhold=N_sma_threshhold, eps=eps, weight_decay=weight_decay)\n",
    "        super().__init__(params, defaults)\n",
    "\n",
    "        # adjustable threshold\n",
    "        self.N_sma_threshhold = N_sma_threshhold\n",
    "\n",
    "        # look ahead params\n",
    "\n",
    "        self.alpha = alpha\n",
    "        self.k = k\n",
    "\n",
    "        # radam buffer for state\n",
    "        self.radam_buffer = [[None, None, None] for ind in range(10)]\n",
    "\n",
    "        # gc on or off\n",
    "        self.gc_loc = gc_loc\n",
    "        self.use_gc = use_gc\n",
    "        self.gc_conv_only = gc_conv_only\n",
    "        # level of gradient centralization\n",
    "        #self.gc_gradient_threshold = 3 if gc_conv_only else 1\n",
    "\n",
    "        print(\n",
    "            f\"Ranger optimizer loaded. \\nGradient Centralization usage = {self.use_gc}\")\n",
    "        if (self.use_gc and self.gc_conv_only == False):\n",
    "            print(f\"GC applied to both conv and fc layers\")\n",
    "        elif (self.use_gc and self.gc_conv_only == True):\n",
    "            print(f\"GC applied to conv layers only\")\n",
    "\n",
    "    def __setstate__(self, state):\n",
    "        print(\"set state called\")\n",
    "        super(Ranger, self).__setstate__(state)\n",
    "\n",
    "    def step(self, closure=None):\n",
    "        loss = None\n",
    "        # note - below is commented out b/c I have other work that passes back the loss as a float, and thus not a callable closure.\n",
    "        # Uncomment if you need to use the actual closure...\n",
    "\n",
    "        # if closure is not None:\n",
    "        #loss = closure()\n",
    "\n",
    "        # Evaluate averages and grad, update param tensors\n",
    "        for group in self.param_groups:\n",
    "\n",
    "            for p in group['params']:\n",
    "                if p.grad is None:\n",
    "                    continue\n",
    "                grad = p.grad.data.float()\n",
    "\n",
    "                if grad.is_sparse:\n",
    "                    raise RuntimeError(\n",
    "                        'Ranger optimizer does not support sparse gradients')\n",
    "\n",
    "                p_data_fp32 = p.data.float()\n",
    "\n",
    "                state = self.state[p]  # get state dict for this param\n",
    "\n",
    "                if len(state) == 0:  # if first time to run...init dictionary with our desired entries\n",
    "                    # if self.first_run_check==0:\n",
    "                    # self.first_run_check=1\n",
    "                    #print(\"Initializing slow buffer...should not see this at load from saved model!\")\n",
    "                    state['step'] = 0\n",
    "                    state['exp_avg'] = torch.zeros_like(p_data_fp32)\n",
    "                    state['exp_avg_sq'] = torch.zeros_like(p_data_fp32)\n",
    "\n",
    "                    # look ahead weight storage now in state dict\n",
    "                    state['slow_buffer'] = torch.empty_like(p.data)\n",
    "                    state['slow_buffer'].copy_(p.data)\n",
    "\n",
    "                else:\n",
    "                    state['exp_avg'] = state['exp_avg'].type_as(p_data_fp32)\n",
    "                    state['exp_avg_sq'] = state['exp_avg_sq'].type_as(\n",
    "                        p_data_fp32)\n",
    "\n",
    "                # begin computations\n",
    "                exp_avg, exp_avg_sq = state['exp_avg'], state['exp_avg_sq']\n",
    "                beta1, beta2 = group['betas']\n",
    "\n",
    "                # GC operation for Conv layers and FC layers\n",
    "                # if grad.dim() > self.gc_gradient_threshold:\n",
    "                #    grad.add_(-grad.mean(dim=tuple(range(1, grad.dim())), keepdim=True))\n",
    "                if self.gc_loc:\n",
    "                    grad = centralized_gradient(grad, use_gc=self.use_gc, gc_conv_only=self.gc_conv_only)\n",
    "\n",
    "                state['step'] += 1\n",
    "\n",
    "                # compute variance mov avg\n",
    "                exp_avg_sq.mul_(beta2).addcmul_(grad, grad, value=1 - beta2)\n",
    "\n",
    "                # compute mean moving avg\n",
    "                exp_avg.mul_(beta1).add_(grad, alpha=1 - beta1)\n",
    "\n",
    "                buffered = self.radam_buffer[int(state['step'] % 10)]\n",
    "\n",
    "                if state['step'] == buffered[0]:\n",
    "                    N_sma, step_size = buffered[1], buffered[2]\n",
    "                else:\n",
    "                    buffered[0] = state['step']\n",
    "                    beta2_t = beta2 ** state['step']\n",
    "                    N_sma_max = 2 / (1 - beta2) - 1\n",
    "                    N_sma = N_sma_max - 2 * \\\n",
    "                        state['step'] * beta2_t / (1 - beta2_t)\n",
    "                    buffered[1] = N_sma\n",
    "                    if N_sma > self.N_sma_threshhold:\n",
    "                        step_size = math.sqrt((1 - beta2_t) * (N_sma - 4) / (N_sma_max - 4) * (\n",
    "                            N_sma - 2) / N_sma * N_sma_max / (N_sma_max - 2)) / (1 - beta1 ** state['step'])\n",
    "                    else:\n",
    "                        step_size = 1.0 / (1 - beta1 ** state['step'])\n",
    "                    buffered[2] = step_size\n",
    "\n",
    "                # if group['weight_decay'] != 0:\n",
    "                #    p_data_fp32.add_(-group['weight_decay']\n",
    "                #                     * group['lr'], p_data_fp32)\n",
    "\n",
    "                # apply lr\n",
    "                if N_sma > self.N_sma_threshhold:\n",
    "                    denom = exp_avg_sq.sqrt().add_(group['eps'])\n",
    "                    G_grad = exp_avg / denom\n",
    "                else:\n",
    "                    G_grad = exp_avg\n",
    "\n",
    "                if group['weight_decay'] != 0:\n",
    "                    G_grad.add_(p_data_fp32, alpha=group['weight_decay'])\n",
    "                # GC operation\n",
    "                if self.gc_loc == False:\n",
    "                    G_grad = centralized_gradient(G_grad, use_gc=self.use_gc, gc_conv_only=self.gc_conv_only)\n",
    "\n",
    "                p_data_fp32.add_(G_grad, alpha=-step_size * group['lr'])\n",
    "                p.data.copy_(p_data_fp32)\n",
    "\n",
    "                # integrated look ahead...\n",
    "                # we do it at the param level instead of group level\n",
    "                if state['step'] % group['k'] == 0:\n",
    "                    # get access to slow param tensor\n",
    "                    slow_p = state['slow_buffer']\n",
    "                    # (fast weights - slow weights) * alpha\n",
    "                    slow_p.add_(p.data - slow_p, alpha=self.alpha)\n",
    "                    # copy interpolated weights to RAdam param tensor\n",
    "                    p.data.copy_(slow_p)\n",
    "\n",
    "        return loss"
   ]
  },
  {
   "cell_type": "markdown",
   "id": "worldwide-clarity",
   "metadata": {
    "papermill": {
     "duration": 0.015029,
     "end_time": "2021-04-28T11:05:57.239392",
     "exception": false,
     "start_time": "2021-04-28T11:05:57.224363",
     "status": "completed"
    },
    "tags": []
   },
   "source": [
    "# Mish activation func"
   ]
  },
  {
   "cell_type": "code",
   "execution_count": 5,
   "id": "blocked-azerbaijan",
   "metadata": {
    "execution": {
     "iopub.execute_input": "2021-04-28T11:05:57.282909Z",
     "iopub.status.busy": "2021-04-28T11:05:57.282066Z",
     "iopub.status.idle": "2021-04-28T11:05:57.286016Z",
     "shell.execute_reply": "2021-04-28T11:05:57.287155Z"
    },
    "papermill": {
     "duration": 0.032946,
     "end_time": "2021-04-28T11:05:57.287342",
     "exception": false,
     "start_time": "2021-04-28T11:05:57.254396",
     "status": "completed"
    },
    "tags": []
   },
   "outputs": [],
   "source": [
    "#credit : https://github.com/tyunist/memory_efficient_mish_swish/blob/master/mish.py\n",
    "\n",
    "''' I just wanted to understand and implement custom backward activation in PyTorch so I choose this.\n",
    "    You can also simply use this function below too.\n",
    "\n",
    "class Mish(nn.Module):\n",
    "    def __init__(self):\n",
    "        super(Mish, self).__init__()\n",
    "\n",
    "    def forward(self, input):\n",
    "        return input * (torch.tanh(F.softplus(input)))\n",
    "'''\n",
    "\n",
    "class Mish_func(torch.autograd.Function):\n",
    "    \n",
    "    @staticmethod\n",
    "    def forward(ctx, i):\n",
    "        result = i * torch.tanh(F.softplus(i))\n",
    "        ctx.save_for_backward(i)\n",
    "        return result\n",
    "\n",
    "    @staticmethod\n",
    "    def backward(ctx, grad_output):\n",
    "        i = ctx.saved_tensors[0]\n",
    "  \n",
    "        v = 1. + i.exp()\n",
    "        h = v.log() \n",
    "        grad_gh = 1./h.cosh().pow_(2) \n",
    "\n",
    "        # Note that grad_hv * grad_vx = sigmoid(x)\n",
    "        #grad_hv = 1./v  \n",
    "        #grad_vx = i.exp()\n",
    "        \n",
    "        grad_hx = i.sigmoid()\n",
    "\n",
    "        grad_gx = grad_gh *  grad_hx #grad_hv * grad_vx \n",
    "        \n",
    "        grad_f =  torch.tanh(F.softplus(i)) + i * grad_gx \n",
    "        \n",
    "        return grad_output * grad_f \n",
    "\n",
    "\n",
    "class Mish(nn.Module):\n",
    "    def __init__(self, **kwargs):\n",
    "        super().__init__()\n",
    "        print(\"Mish initialized\")\n",
    "        pass\n",
    "    def forward(self, input_tensor):\n",
    "        return Mish_func.apply(input_tensor)"
   ]
  },
  {
   "cell_type": "code",
   "execution_count": 6,
   "id": "broadband-undergraduate",
   "metadata": {
    "execution": {
     "iopub.execute_input": "2021-04-28T11:05:57.325322Z",
     "iopub.status.busy": "2021-04-28T11:05:57.324571Z",
     "iopub.status.idle": "2021-04-28T11:05:57.327786Z",
     "shell.execute_reply": "2021-04-28T11:05:57.328419Z"
    },
    "papermill": {
     "duration": 0.025807,
     "end_time": "2021-04-28T11:05:57.328592",
     "exception": false,
     "start_time": "2021-04-28T11:05:57.302785",
     "status": "completed"
    },
    "tags": []
   },
   "outputs": [],
   "source": [
    "def replace_activations(model, existing_layer, new_layer):\n",
    "    for name, module in reversed(model._modules.items()):\n",
    "        if len(list(module.children())) > 0:\n",
    "            model._modules[name] = replace_activations(module, existing_layer, new_layer)\n",
    "\n",
    "        if type(module) == existing_layer:\n",
    "            layer_old = module\n",
    "            layer_new = new_layer\n",
    "            model._modules[name] = layer_new\n",
    "    return model"
   ]
  },
  {
   "cell_type": "markdown",
   "id": "offensive-series",
   "metadata": {
    "papermill": {
     "duration": 0.01511,
     "end_time": "2021-04-28T11:05:57.359458",
     "exception": false,
     "start_time": "2021-04-28T11:05:57.344348",
     "status": "completed"
    },
    "tags": []
   },
   "source": [
    "# Create Model"
   ]
  },
  {
   "cell_type": "code",
   "execution_count": 7,
   "id": "compact-intake",
   "metadata": {
    "execution": {
     "iopub.execute_input": "2021-04-28T11:05:57.418814Z",
     "iopub.status.busy": "2021-04-28T11:05:57.410737Z",
     "iopub.status.idle": "2021-04-28T11:05:57.424927Z",
     "shell.execute_reply": "2021-04-28T11:05:57.425498Z"
    },
    "papermill": {
     "duration": 0.050801,
     "end_time": "2021-04-28T11:05:57.425672",
     "exception": false,
     "start_time": "2021-04-28T11:05:57.374871",
     "status": "completed"
    },
    "tags": []
   },
   "outputs": [],
   "source": [
    "class ArcMarginProduct(nn.Module):\n",
    "    def __init__(self, in_features, out_features, scale=30.0, margin=0.50, easy_margin=False, ls_eps=0.0):\n",
    "        super(ArcMarginProduct, self).__init__()\n",
    "        self.in_features = in_features\n",
    "        self.out_features = out_features\n",
    "        self.scale = scale\n",
    "        self.margin = margin\n",
    "        self.ls_eps = ls_eps  # label smoothing\n",
    "        self.weight = nn.Parameter(torch.FloatTensor(out_features, in_features))\n",
    "        nn.init.xavier_uniform_(self.weight)\n",
    "\n",
    "        self.easy_margin = easy_margin\n",
    "        self.cos_m = math.cos(margin)\n",
    "        self.sin_m = math.sin(margin)\n",
    "        self.th = math.cos(math.pi - margin)\n",
    "        self.mm = math.sin(math.pi - margin) * margin\n",
    "\n",
    "    def forward(self, input, label):\n",
    "        cosine = F.linear(F.normalize(input), F.normalize(self.weight))\n",
    "        sine = torch.sqrt(1.0 - torch.pow(cosine, 2))\n",
    "        phi = cosine * self.cos_m - sine * self.sin_m\n",
    "        if self.easy_margin:\n",
    "            phi = torch.where(cosine > 0, phi, cosine)\n",
    "        else:\n",
    "            phi = torch.where(cosine > self.th, phi, cosine - self.mm)\n",
    "    \n",
    "        one_hot = torch.zeros(cosine.size(), device='cuda')\n",
    "        one_hot.scatter_(1, label.view(-1, 1).long(), 1)\n",
    "        if self.ls_eps > 0:\n",
    "            one_hot = (1 - self.ls_eps) * one_hot + self.ls_eps / self.out_features\n",
    "\n",
    "        output = (one_hot * phi) + ((1.0 - one_hot) * cosine)\n",
    "        output *= self.scale\n",
    "        return output, nn.CrossEntropyLoss()(output,label)\n",
    "\n",
    "\n",
    "class ShopeeModel(nn.Module):\n",
    "\n",
    "    def __init__(\n",
    "        self,\n",
    "        n_classes = CFG.classes,\n",
    "        model_name = CFG.model_name,\n",
    "        fc_dim = CFG.fc_dim,\n",
    "        margin = CFG.margin,\n",
    "        scale = CFG.scale,\n",
    "        use_fc = True,\n",
    "        pretrained = True):\n",
    "\n",
    "        super(ShopeeModel,self).__init__()\n",
    "        print('Building Model Backbone for {} model'.format(model_name))\n",
    "\n",
    "        self.backbone = timm.create_model(model_name, pretrained=pretrained)\n",
    "        \n",
    "        in_features = self.backbone.classifier.in_features\n",
    "        self.backbone.classifier = nn.Identity()\n",
    "        self.backbone.global_pool = nn.Identity()\n",
    "        \n",
    "        \n",
    "        self.pooling =  nn.AdaptiveAvgPool2d(1)\n",
    "        self.use_fc = use_fc\n",
    "\n",
    "        if use_fc:\n",
    "            self.dropout = nn.Dropout(p=0.1)\n",
    "            self.classifier = nn.Linear(in_features, fc_dim)\n",
    "            self.bn = nn.BatchNorm1d(fc_dim)\n",
    "            self._init_params()\n",
    "            in_features = fc_dim\n",
    "\n",
    "        self.final = ArcMarginProduct(\n",
    "            in_features,\n",
    "            n_classes,\n",
    "            scale = scale,\n",
    "            margin = margin,\n",
    "            easy_margin = False,\n",
    "            ls_eps = 0.0\n",
    "        )\n",
    "\n",
    "    def _init_params(self):\n",
    "        nn.init.xavier_normal_(self.classifier.weight)\n",
    "        nn.init.constant_(self.classifier.bias, 0)\n",
    "        nn.init.constant_(self.bn.weight, 1)\n",
    "        nn.init.constant_(self.bn.bias, 0)\n",
    "\n",
    "    def forward(self, image, label):\n",
    "        features = self.extract_features(image)\n",
    "        if self.training:\n",
    "            logits = self.final(features, label)\n",
    "            return logits\n",
    "        else:\n",
    "            return features\n",
    "\n",
    "    def extract_features(self, x):\n",
    "        batch_size = x.shape[0]\n",
    "        x = self.backbone(x)\n",
    "        x = self.pooling(x).view(batch_size, -1)\n",
    "\n",
    "        if self.use_fc and self.training:\n",
    "            x = self.dropout(x)\n",
    "            x = self.classifier(x)\n",
    "            x = self.bn(x)\n",
    "        return x\n"
   ]
  },
  {
   "cell_type": "markdown",
   "id": "acoustic-april",
   "metadata": {
    "papermill": {
     "duration": 0.015378,
     "end_time": "2021-04-28T11:05:57.456381",
     "exception": false,
     "start_time": "2021-04-28T11:05:57.441003",
     "status": "completed"
    },
    "tags": []
   },
   "source": [
    "# Training"
   ]
  },
  {
   "cell_type": "code",
   "execution_count": 8,
   "id": "loaded-bracelet",
   "metadata": {
    "execution": {
     "iopub.execute_input": "2021-04-28T11:05:57.496264Z",
     "iopub.status.busy": "2021-04-28T11:05:57.495530Z",
     "iopub.status.idle": "2021-04-28T11:05:57.505598Z",
     "shell.execute_reply": "2021-04-28T11:05:57.506303Z"
    },
    "papermill": {
     "duration": 0.034368,
     "end_time": "2021-04-28T11:05:57.506467",
     "exception": false,
     "start_time": "2021-04-28T11:05:57.472099",
     "status": "completed"
    },
    "tags": []
   },
   "outputs": [],
   "source": [
    "def run_training():\n",
    "    \n",
    "    df = pd.read_csv(TRAIN_CSV)\n",
    "\n",
    "    labelencoder= LabelEncoder()\n",
    "    df['label_group'] = labelencoder.fit_transform(df['label_group'])\n",
    "\n",
    "    trainset = ShopeeDataset(df,\n",
    "                             DATA_DIR,\n",
    "                             transform = get_train_transforms(img_size = CFG.img_size))\n",
    "\n",
    "    trainloader = torch.utils.data.DataLoader(\n",
    "        trainset,\n",
    "        batch_size = CFG.batch_size,\n",
    "        num_workers = CFG.num_workers,\n",
    "        pin_memory = True,\n",
    "        shuffle = True,\n",
    "        drop_last = True\n",
    "    )\n",
    "\n",
    "    model = ShopeeModel()\n",
    "    model.to(CFG.device)\n",
    "    \n",
    "        \n",
    "    existing_layer = torch.nn.ReLU\n",
    "    new_layer = Mish()\n",
    "    \n",
    "    model = replace_activations(model, existing_layer, new_layer)\n",
    "    \n",
    "    #optimizer = torch.optim.Adam(model.parameters(), lr = CFG.scheduler_params['lr_start'])\n",
    "    \n",
    "    optimizer = Ranger(model.parameters(), lr = CFG.scheduler_params['lr_start'])\n",
    "    scheduler = ShopeeScheduler(optimizer, **CFG.scheduler_params)\n",
    "\n",
    "    \n",
    "    for epoch in range(CFG.epochs):\n",
    "        avg_loss_train = engine.train_fn(model, trainloader, optimizer, scheduler, epoch, CFG.device)\n",
    "        torch.save(model.state_dict(), MODEL_PATH + 'arcface_512x512_{}_mish.pt'.format(CFG.model_name))\n",
    "        torch.save({\n",
    "            'epoch': epoch,\n",
    "            'model_state_dict': model.state_dict(),\n",
    "            'optimizer': optimizer.state_dict(),\n",
    "            'scheduler': scheduler.state_dict()\n",
    "            },\n",
    "            MODEL_PATH + 'arcface_512x512_{}_checkpoints_mish.pt'.format(CFG.model_name)\n",
    "        )"
   ]
  },
  {
   "cell_type": "code",
   "execution_count": 9,
   "id": "accessory-secondary",
   "metadata": {
    "execution": {
     "iopub.execute_input": "2021-04-28T11:05:57.545066Z",
     "iopub.status.busy": "2021-04-28T11:05:57.544357Z",
     "iopub.status.idle": "2021-04-28T17:10:02.189538Z",
     "shell.execute_reply": "2021-04-28T17:10:02.188605Z"
    },
    "papermill": {
     "duration": 21844.667629,
     "end_time": "2021-04-28T17:10:02.189689",
     "exception": false,
     "start_time": "2021-04-28T11:05:57.522060",
     "status": "completed"
    },
    "tags": []
   },
   "outputs": [
    {
     "name": "stdout",
     "output_type": "stream",
     "text": [
      "Building Model Backbone for efficientnet_b3 model\n"
     ]
    },
    {
     "name": "stderr",
     "output_type": "stream",
     "text": [
      "Downloading: \"https://github.com/rwightman/pytorch-image-models/releases/download/v0.1-weights/efficientnet_b3_ra2-cf984f9c.pth\" to /root/.cache/torch/hub/checkpoints/efficientnet_b3_ra2-cf984f9c.pth\n",
      "Training epoch: 1:   0%|          | 0/4281 [00:00<?, ?it/s]"
     ]
    },
    {
     "name": "stdout",
     "output_type": "stream",
     "text": [
      "Mish initialized\n",
      "Ranger optimizer loaded. \n",
      "Gradient Centralization usage = True\n",
      "GC applied to both conv and fc layers\n"
     ]
    },
    {
     "name": "stderr",
     "output_type": "stream",
     "text": [
      "Training epoch: 1: 100%|██████████| 4281/4281 [24:23<00:00,  2.92it/s, loss=24.394129, LR=1e-5]\n",
      "Training epoch: 2: 100%|██████████| 4281/4281 [24:26<00:00,  2.92it/s, loss=22.368988, LR=0.000134]\n",
      "Training epoch: 3: 100%|██████████| 4281/4281 [24:16<00:00,  2.94it/s, loss=18.511856, LR=0.000258]\n",
      "Training epoch: 4: 100%|██████████| 4281/4281 [24:04<00:00,  2.96it/s, loss=14.412829, LR=0.000256]\n",
      "Training epoch: 5: 100%|██████████| 4281/4281 [24:17<00:00,  2.94it/s, loss=11.271438, LR=0.000164]\n",
      "Training epoch: 6: 100%|██████████| 4281/4281 [24:05<00:00,  2.96it/s, loss=9.410127, LR=0.000106]\n",
      "Training epoch: 7: 100%|██████████| 4281/4281 [23:57<00:00,  2.98it/s, loss=8.285587, LR=6.79e-5]\n",
      "Training epoch: 8: 100%|██████████| 4281/4281 [24:00<00:00,  2.97it/s, loss=7.589520, LR=4.38e-5]\n",
      "Training epoch: 9: 100%|██████████| 4281/4281 [24:09<00:00,  2.95it/s, loss=7.149785, LR=2.84e-5]\n",
      "Training epoch: 10: 100%|██████████| 4281/4281 [24:18<00:00,  2.94it/s, loss=6.873629, LR=1.85e-5]\n",
      "Training epoch: 11: 100%|██████████| 4281/4281 [24:08<00:00,  2.95it/s, loss=6.683153, LR=1.22e-5]\n",
      "Training epoch: 12: 100%|██████████| 4281/4281 [24:05<00:00,  2.96it/s, loss=6.573960, LR=8.18e-6]\n",
      "Training epoch: 13: 100%|██████████| 4281/4281 [24:33<00:00,  2.91it/s, loss=6.488226, LR=5.6e-6]\n",
      "Training epoch: 14: 100%|██████████| 4281/4281 [24:40<00:00,  2.89it/s, loss=6.428080, LR=3.94e-6]\n",
      "Training epoch: 15: 100%|██████████| 4281/4281 [24:12<00:00,  2.95it/s, loss=6.404010, LR=2.88e-6]\n"
     ]
    }
   ],
   "source": [
    "run_training()"
   ]
  }
 ],
 "metadata": {
  "kernelspec": {
   "display_name": "Python 3",
   "language": "python",
   "name": "python3"
  },
  "language_info": {
   "codemirror_mode": {
    "name": "ipython",
    "version": 3
   },
   "file_extension": ".py",
   "mimetype": "text/x-python",
   "name": "python",
   "nbconvert_exporter": "python",
   "pygments_lexer": "ipython3",
   "version": "3.7.9"
  },
  "papermill": {
   "default_parameters": {},
   "duration": 21891.946589,
   "end_time": "2021-04-28T17:10:39.064357",
   "environment_variables": {},
   "exception": null,
   "input_path": "__notebook__.ipynb",
   "output_path": "__notebook__.ipynb",
   "parameters": {},
   "start_time": "2021-04-28T11:05:47.117768",
   "version": "2.3.2"
  }
 },
 "nbformat": 4,
 "nbformat_minor": 5
}
