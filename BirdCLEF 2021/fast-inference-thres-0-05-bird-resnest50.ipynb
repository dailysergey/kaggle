{
 "cells": [
  {
   "cell_type": "markdown",
   "id": "manufactured-nation",
   "metadata": {
    "papermill": {
     "duration": 0.029931,
     "end_time": "2021-05-28T09:48:00.181569",
     "exception": false,
     "start_time": "2021-05-28T09:48:00.151638",
     "status": "completed"
    },
    "tags": []
   },
   "source": [
    "# Notes"
   ]
  },
  {
   "cell_type": "markdown",
   "id": "structural-offense",
   "metadata": {
    "papermill": {
     "duration": 0.029021,
     "end_time": "2021-05-28T09:48:00.238912",
     "exception": false,
     "start_time": "2021-05-28T09:48:00.209891",
     "status": "completed"
    },
    "tags": []
   },
   "source": [
    "In this kenel, I'm going to use a classical **ResneSt50** for bird identification."
   ]
  },
  {
   "cell_type": "markdown",
   "id": "prospective-brave",
   "metadata": {
    "papermill": {
     "duration": 0.027894,
     "end_time": "2021-05-28T09:48:00.294658",
     "exception": false,
     "start_time": "2021-05-28T09:48:00.266764",
     "status": "completed"
    },
    "tags": []
   },
   "source": [
    "* The inference is based on these [resnest50 weights](https://www.kaggle.com/kneroma/kkiller-birdclef-models-public). Please, don't forget upvoting the dataset to make it more visible for others\n",
    "* The inference pipeline is optimized as much as I can in order to reduce execution time"
   ]
  },
  {
   "cell_type": "markdown",
   "id": "permanent-muscle",
   "metadata": {
    "papermill": {
     "duration": 0.027772,
     "end_time": "2021-05-28T09:48:00.350504",
     "exception": false,
     "start_time": "2021-05-28T09:48:00.322732",
     "status": "completed"
    },
    "tags": []
   },
   "source": [
    "**If the only thing you wan't to change is `hyperparams`, please consider commenting instead of spamming with stupid forks !**"
   ]
  },
  {
   "cell_type": "markdown",
   "id": "defined-waste",
   "metadata": {
    "papermill": {
     "duration": 0.027615,
     "end_time": "2021-05-28T09:48:00.406148",
     "exception": false,
     "start_time": "2021-05-28T09:48:00.378533",
     "status": "completed"
    },
    "tags": []
   },
   "source": [
    "<h2><font color=\"blue\">If you find this work useful, please don't forget upvoting :)</font></h2>"
   ]
  },
  {
   "cell_type": "markdown",
   "id": "miniature-jimmy",
   "metadata": {
    "papermill": {
     "duration": 0.02753,
     "end_time": "2021-05-28T09:48:00.461638",
     "exception": false,
     "start_time": "2021-05-28T09:48:00.434108",
     "status": "completed"
    },
    "tags": []
   },
   "source": [
    "# CHanges to original\n",
    "* threshold = 0.15 \n",
    "* https://www.kaggle.com/dailysergey/birdcall-resnestsed-effnet-b0-ema-all-th04/"
   ]
  },
  {
   "cell_type": "markdown",
   "id": "applied-scenario",
   "metadata": {
    "papermill": {
     "duration": 0.027505,
     "end_time": "2021-05-28T09:48:00.517083",
     "exception": false,
     "start_time": "2021-05-28T09:48:00.489578",
     "status": "completed"
    },
    "tags": []
   },
   "source": [
    "For threshold 0.11\n",
    "* f1        0.701069\n",
    "* prec      0.710556\n",
    "* rec       0.698104\n",
    "* n_true    1.130000\n",
    "* n_pred    1.015000\n",
    "* n         0.717917\n",
    "\n",
    "\n",
    "For threshold 0.15\n",
    "* f1        0.698236\n",
    "* prec      0.708125\n",
    "* rec       0.694354\n",
    "* n_true    1.130000\n",
    "* n_pred    1.007500\n",
    "* n         0.711667\n"
   ]
  },
  {
   "cell_type": "code",
   "execution_count": 1,
   "id": "fuzzy-avenue",
   "metadata": {
    "execution": {
     "iopub.execute_input": "2021-05-28T09:48:00.589667Z",
     "iopub.status.busy": "2021-05-28T09:48:00.577712Z",
     "iopub.status.idle": "2021-05-28T09:48:01.310443Z",
     "shell.execute_reply": "2021-05-28T09:48:01.309660Z",
     "shell.execute_reply.started": "2021-05-25T04:35:04.122769Z"
    },
    "id": "ikMF-nQSdTbF",
    "outputId": "041c6767-86ab-46e4-9b22-a4840121ecca",
    "papermill": {
     "duration": 0.765533,
     "end_time": "2021-05-28T09:48:01.310625",
     "exception": false,
     "start_time": "2021-05-28T09:48:00.545092",
     "status": "completed"
    },
    "tags": []
   },
   "outputs": [
    {
     "name": "stdout",
     "output_type": "stream",
     "text": [
      "/bin/bash: nvidia-smi: command not found\r\n"
     ]
    }
   ],
   "source": [
    "!nvidia-smi"
   ]
  },
  {
   "cell_type": "code",
   "execution_count": 2,
   "id": "separate-casting",
   "metadata": {
    "execution": {
     "iopub.execute_input": "2021-05-28T09:48:01.378732Z",
     "iopub.status.busy": "2021-05-28T09:48:01.378015Z",
     "iopub.status.idle": "2021-05-28T09:48:31.171389Z",
     "shell.execute_reply": "2021-05-28T09:48:31.170271Z",
     "shell.execute_reply.started": "2021-05-25T04:35:04.793944Z"
    },
    "papermill": {
     "duration": 29.831075,
     "end_time": "2021-05-28T09:48:31.171583",
     "exception": false,
     "start_time": "2021-05-28T09:48:01.340508",
     "status": "completed"
    },
    "tags": []
   },
   "outputs": [],
   "source": [
    "try:\n",
    "    import resnest\n",
    "except ModuleNotFoundError:\n",
    "    !pip install -q \"../input/resnest50-fast-package/resnest-0.0.6b20200701/resnest\""
   ]
  },
  {
   "cell_type": "code",
   "execution_count": 3,
   "id": "humanitarian-twenty",
   "metadata": {
    "execution": {
     "iopub.execute_input": "2021-05-28T09:48:31.241545Z",
     "iopub.status.busy": "2021-05-28T09:48:31.240857Z",
     "iopub.status.idle": "2021-05-28T09:48:31.245994Z",
     "shell.execute_reply": "2021-05-28T09:48:31.245523Z",
     "shell.execute_reply.started": "2021-05-25T04:35:33.12223Z"
    },
    "papermill": {
     "duration": 0.045247,
     "end_time": "2021-05-28T09:48:31.246148",
     "exception": false,
     "start_time": "2021-05-28T09:48:31.200901",
     "status": "completed"
    },
    "tags": []
   },
   "outputs": [],
   "source": [
    "import sys\n",
    "sys.path.append('../input/timm-pytorch-image-models/pytorch-image-models-master')"
   ]
  },
  {
   "cell_type": "code",
   "execution_count": 4,
   "id": "worst-lancaster",
   "metadata": {
    "_cell_guid": "b1076dfc-b9ad-4769-8c92-a6c4dae69d19",
    "_uuid": "8f2839f25d086af736a60e9eeb907d3b93b6e0e5",
    "execution": {
     "iopub.execute_input": "2021-05-28T09:48:31.313042Z",
     "iopub.status.busy": "2021-05-28T09:48:31.312375Z",
     "iopub.status.idle": "2021-05-28T09:48:37.566333Z",
     "shell.execute_reply": "2021-05-28T09:48:37.565767Z",
     "shell.execute_reply.started": "2021-05-25T04:36:10.425785Z"
    },
    "id": "kSCcqxf0c_O7",
    "papermill": {
     "duration": 6.289753,
     "end_time": "2021-05-28T09:48:37.566486",
     "exception": false,
     "start_time": "2021-05-28T09:48:31.276733",
     "status": "completed"
    },
    "tags": []
   },
   "outputs": [],
   "source": [
    "import numpy as np\n",
    "import librosa as lb\n",
    "import soundfile as sf\n",
    "import pandas as pd\n",
    "import cv2\n",
    "from pathlib import Path\n",
    "import re\n",
    "import random\n",
    "import timm\n",
    "import torch\n",
    "from torch import nn\n",
    "from  torch.utils.data import Dataset, DataLoader\n",
    "\n",
    "from tqdm.notebook import tqdm\n",
    "import time\n",
    "from resnest.torch import resnest50"
   ]
  },
  {
   "cell_type": "markdown",
   "id": "better-creek",
   "metadata": {
    "papermill": {
     "duration": 0.027991,
     "end_time": "2021-05-28T09:48:37.623514",
     "exception": false,
     "start_time": "2021-05-28T09:48:37.595523",
     "status": "completed"
    },
    "tags": []
   },
   "source": [
    "# Configs"
   ]
  },
  {
   "cell_type": "code",
   "execution_count": 5,
   "id": "assisted-plasma",
   "metadata": {
    "execution": {
     "iopub.execute_input": "2021-05-28T09:48:37.688810Z",
     "iopub.status.busy": "2021-05-28T09:48:37.688019Z",
     "iopub.status.idle": "2021-05-28T09:48:37.698459Z",
     "shell.execute_reply": "2021-05-28T09:48:37.697956Z",
     "shell.execute_reply.started": "2021-05-25T04:35:38.046263Z"
    },
    "id": "rJhYZVIDc_O9",
    "papermill": {
     "duration": 0.046515,
     "end_time": "2021-05-28T09:48:37.698632",
     "exception": false,
     "start_time": "2021-05-28T09:48:37.652117",
     "status": "completed"
    },
    "tags": []
   },
   "outputs": [
    {
     "name": "stdout",
     "output_type": "stream",
     "text": [
      "DEVICE: cpu\n"
     ]
    }
   ],
   "source": [
    "NUM_CLASSES = 397\n",
    "SR = 32_000\n",
    "DURATION = 5\n",
    "\n",
    "THRESH = 0.05\n",
    "\n",
    "\n",
    "DEVICE = torch.device(\"cuda\" if torch.cuda.is_available() else \"cpu\")\n",
    "print(\"DEVICE:\", DEVICE)\n",
    "\n",
    "TEST_AUDIO_ROOT = Path(\"../input/birdclef-2021/test_soundscapes\")\n",
    "SAMPLE_SUB_PATH = \"../input/birdclef-2021/sample_submission.csv\"\n",
    "TARGET_PATH = None\n",
    "    \n",
    "if not len(list(TEST_AUDIO_ROOT.glob(\"*.ogg\"))):\n",
    "    TEST_AUDIO_ROOT = Path(\"../input/birdclef-2021/train_soundscapes\")\n",
    "    SAMPLE_SUB_PATH = None\n",
    "    # SAMPLE_SUB_PATH = \"../input/birdclef-2021/sample_submission.csv\"\n",
    "    TARGET_PATH = Path(\"../input/birdclef-2021/train_soundscape_labels.csv\")"
   ]
  },
  {
   "cell_type": "markdown",
   "id": "eleven-pattern",
   "metadata": {
    "papermill": {
     "duration": 0.02871,
     "end_time": "2021-05-28T09:48:37.756203",
     "exception": false,
     "start_time": "2021-05-28T09:48:37.727493",
     "status": "completed"
    },
    "tags": []
   },
   "source": [
    "# Data"
   ]
  },
  {
   "cell_type": "code",
   "execution_count": 6,
   "id": "announced-innocent",
   "metadata": {
    "execution": {
     "iopub.execute_input": "2021-05-28T09:48:37.822400Z",
     "iopub.status.busy": "2021-05-28T09:48:37.821612Z",
     "iopub.status.idle": "2021-05-28T09:48:37.825533Z",
     "shell.execute_reply": "2021-05-28T09:48:37.824898Z",
     "shell.execute_reply.started": "2021-05-25T04:35:38.117603Z"
    },
    "id": "4fwNhdbJc_O-",
    "papermill": {
     "duration": 0.04021,
     "end_time": "2021-05-28T09:48:37.825673",
     "exception": false,
     "start_time": "2021-05-28T09:48:37.785463",
     "status": "completed"
    },
    "tags": []
   },
   "outputs": [],
   "source": [
    "class MelSpecComputer:\n",
    "    def __init__(self, sr, n_mels, fmin, fmax, **kwargs):\n",
    "        self.sr = sr\n",
    "        self.n_mels = n_mels\n",
    "        self.fmin = fmin\n",
    "        self.fmax = fmax\n",
    "        kwargs[\"n_fft\"] = kwargs.get(\"n_fft\", self.sr//10)\n",
    "        kwargs[\"hop_length\"] = kwargs.get(\"hop_length\", self.sr//(10*4))\n",
    "        self.kwargs = kwargs\n",
    "\n",
    "    def __call__(self, y):\n",
    "\n",
    "        melspec = lb.feature.melspectrogram(\n",
    "            y, sr=self.sr, n_mels=self.n_mels, fmin=self.fmin, fmax=self.fmax, **self.kwargs,\n",
    "        )\n",
    "\n",
    "        melspec = lb.power_to_db(melspec).astype(np.float32)\n",
    "        return melspec"
   ]
  },
  {
   "cell_type": "code",
   "execution_count": 7,
   "id": "actual-affect",
   "metadata": {
    "execution": {
     "iopub.execute_input": "2021-05-28T09:48:37.894702Z",
     "iopub.status.busy": "2021-05-28T09:48:37.893725Z",
     "iopub.status.idle": "2021-05-28T09:48:37.896469Z",
     "shell.execute_reply": "2021-05-28T09:48:37.896984Z",
     "shell.execute_reply.started": "2021-05-25T04:35:38.126818Z"
    },
    "id": "Nk0haSTIc_O_",
    "papermill": {
     "duration": 0.04255,
     "end_time": "2021-05-28T09:48:37.897146",
     "exception": false,
     "start_time": "2021-05-28T09:48:37.854596",
     "status": "completed"
    },
    "tags": []
   },
   "outputs": [],
   "source": [
    "def random_power(images, power = 1.5, c= 0.7):\n",
    "    images = images - images.min()\n",
    "    images = images/(images.max()+0.0000001)\n",
    "    images = images**(random.random()*power + c)\n",
    "    return images\n",
    "\n",
    "def mono_to_color(X, eps=1e-6, mean=None, std=None):\n",
    "    mean = mean or X.mean()\n",
    "    std = std or X.std()\n",
    "    X = (X - mean) / (std + eps)\n",
    "    \n",
    "    _min, _max = X.min(), X.max()\n",
    "\n",
    "    if (_max - _min) > eps:\n",
    "        V = np.clip(X, _min, _max)\n",
    "        V = 255 * (V - _min) / (_max - _min)\n",
    "        V = V.astype(np.uint8)\n",
    "    else:\n",
    "        V = np.zeros_like(X, dtype=np.uint8)\n",
    "\n",
    "    return V\n",
    "\n",
    "def crop_or_pad(y, length):\n",
    "    if len(y) < length:\n",
    "        y = np.concatenate([y, length - np.zeros(len(y))])\n",
    "    elif len(y) > length:\n",
    "        y = y[:length]\n",
    "    return y"
   ]
  },
  {
   "cell_type": "code",
   "execution_count": 8,
   "id": "european-bradford",
   "metadata": {
    "execution": {
     "iopub.execute_input": "2021-05-28T09:48:37.970953Z",
     "iopub.status.busy": "2021-05-28T09:48:37.969957Z",
     "iopub.status.idle": "2021-05-28T09:48:37.972576Z",
     "shell.execute_reply": "2021-05-28T09:48:37.973019Z",
     "shell.execute_reply.started": "2021-05-25T04:35:38.137684Z"
    },
    "papermill": {
     "duration": 0.046894,
     "end_time": "2021-05-28T09:48:37.973211",
     "exception": false,
     "start_time": "2021-05-28T09:48:37.926317",
     "status": "completed"
    },
    "tags": []
   },
   "outputs": [],
   "source": [
    "class BirdCLEFDataset(Dataset):\n",
    "    def __init__(self, data, sr=SR, n_mels=128, fmin=0, fmax=None, duration=DURATION, step=None, res_type=\"kaiser_fast\", resample=True):\n",
    "        \n",
    "        self.data = data\n",
    "        \n",
    "        self.sr = sr\n",
    "        self.n_mels = n_mels\n",
    "        self.fmin = fmin\n",
    "        self.fmax = fmax or self.sr//2\n",
    "\n",
    "        self.duration = duration\n",
    "        self.audio_length = self.duration*self.sr\n",
    "        self.step = step or self.audio_length\n",
    "        \n",
    "        self.res_type = res_type\n",
    "        self.resample = resample\n",
    "\n",
    "        self.mel_spec_computer = MelSpecComputer(sr=self.sr, n_mels=self.n_mels, fmin=self.fmin,\n",
    "                                                 fmax=self.fmax)\n",
    "    def __len__(self):\n",
    "        return len(self.data)\n",
    "    \n",
    "    @staticmethod\n",
    "    def normalize(image):\n",
    "        image = image.astype(\"float32\", copy=False) / 255.0\n",
    "        image = np.stack([image, image, image])\n",
    "        return image\n",
    "    \n",
    "    def audio_to_image(self, audio):\n",
    "        melspec = self.mel_spec_computer(audio) \n",
    "        image = random_power(melspec, power = 2, c= 0.7)\n",
    "        image = mono_to_color(image)\n",
    "        image = self.normalize(image)\n",
    "        return image\n",
    "\n",
    "    def read_file(self, filepath):\n",
    "        audio, orig_sr = sf.read(filepath, dtype=\"float32\")\n",
    "\n",
    "        if self.resample and orig_sr != self.sr:\n",
    "            audio = lb.resample(audio, orig_sr, self.sr, res_type=self.res_type)\n",
    "          \n",
    "        audios = []\n",
    "        for i in range(self.audio_length, len(audio) + self.step, self.step):\n",
    "            start = max(0, i - self.audio_length)\n",
    "            end = start + self.audio_length\n",
    "            audios.append(audio[start:end])\n",
    "            \n",
    "        if len(audios[-1]) < self.audio_length:\n",
    "            audios = audios[:-1]\n",
    "            \n",
    "        images = [self.audio_to_image(audio) for audio in audios]\n",
    "        images = np.stack(images)\n",
    "        \n",
    "        return images\n",
    "    \n",
    "        \n",
    "    def __getitem__(self, idx):\n",
    "        return self.read_file(self.data.loc[idx, \"filepath\"])"
   ]
  },
  {
   "cell_type": "code",
   "execution_count": 9,
   "id": "pursuant-direction",
   "metadata": {
    "execution": {
     "iopub.execute_input": "2021-05-28T09:48:38.036600Z",
     "iopub.status.busy": "2021-05-28T09:48:38.035916Z",
     "iopub.status.idle": "2021-05-28T09:48:38.075629Z",
     "shell.execute_reply": "2021-05-28T09:48:38.075026Z",
     "shell.execute_reply.started": "2021-05-25T04:35:38.154956Z"
    },
    "id": "rVwlOrbxc_PD",
    "outputId": "9b53ec99-634a-4b30-f9b5-75036184482b",
    "papermill": {
     "duration": 0.073861,
     "end_time": "2021-05-28T09:48:38.075772",
     "exception": false,
     "start_time": "2021-05-28T09:48:38.001911",
     "status": "completed"
    },
    "tags": []
   },
   "outputs": [
    {
     "name": "stdout",
     "output_type": "stream",
     "text": [
      "(20, 5)\n"
     ]
    },
    {
     "data": {
      "text/html": [
       "<div>\n",
       "<style scoped>\n",
       "    .dataframe tbody tr th:only-of-type {\n",
       "        vertical-align: middle;\n",
       "    }\n",
       "\n",
       "    .dataframe tbody tr th {\n",
       "        vertical-align: top;\n",
       "    }\n",
       "\n",
       "    .dataframe thead th {\n",
       "        text-align: right;\n",
       "    }\n",
       "</style>\n",
       "<table border=\"1\" class=\"dataframe\">\n",
       "  <thead>\n",
       "    <tr style=\"text-align: right;\">\n",
       "      <th></th>\n",
       "      <th>filename</th>\n",
       "      <th>id</th>\n",
       "      <th>site</th>\n",
       "      <th>date</th>\n",
       "      <th>filepath</th>\n",
       "    </tr>\n",
       "  </thead>\n",
       "  <tbody>\n",
       "    <tr>\n",
       "      <th>0</th>\n",
       "      <td>20152_SSW_20170805</td>\n",
       "      <td>20152</td>\n",
       "      <td>SSW</td>\n",
       "      <td>20170805</td>\n",
       "      <td>../input/birdclef-2021/train_soundscapes/20152...</td>\n",
       "    </tr>\n",
       "    <tr>\n",
       "      <th>1</th>\n",
       "      <td>57610_COR_20190904</td>\n",
       "      <td>57610</td>\n",
       "      <td>COR</td>\n",
       "      <td>20190904</td>\n",
       "      <td>../input/birdclef-2021/train_soundscapes/57610...</td>\n",
       "    </tr>\n",
       "    <tr>\n",
       "      <th>2</th>\n",
       "      <td>7843_SSW_20170325</td>\n",
       "      <td>7843</td>\n",
       "      <td>SSW</td>\n",
       "      <td>20170325</td>\n",
       "      <td>../input/birdclef-2021/train_soundscapes/7843_...</td>\n",
       "    </tr>\n",
       "    <tr>\n",
       "      <th>3</th>\n",
       "      <td>42907_SSW_20170708</td>\n",
       "      <td>42907</td>\n",
       "      <td>SSW</td>\n",
       "      <td>20170708</td>\n",
       "      <td>../input/birdclef-2021/train_soundscapes/42907...</td>\n",
       "    </tr>\n",
       "    <tr>\n",
       "      <th>4</th>\n",
       "      <td>7019_COR_20190904</td>\n",
       "      <td>7019</td>\n",
       "      <td>COR</td>\n",
       "      <td>20190904</td>\n",
       "      <td>../input/birdclef-2021/train_soundscapes/7019_...</td>\n",
       "    </tr>\n",
       "  </tbody>\n",
       "</table>\n",
       "</div>"
      ],
      "text/plain": [
       "             filename     id site      date  \\\n",
       "0  20152_SSW_20170805  20152  SSW  20170805   \n",
       "1  57610_COR_20190904  57610  COR  20190904   \n",
       "2   7843_SSW_20170325   7843  SSW  20170325   \n",
       "3  42907_SSW_20170708  42907  SSW  20170708   \n",
       "4   7019_COR_20190904   7019  COR  20190904   \n",
       "\n",
       "                                            filepath  \n",
       "0  ../input/birdclef-2021/train_soundscapes/20152...  \n",
       "1  ../input/birdclef-2021/train_soundscapes/57610...  \n",
       "2  ../input/birdclef-2021/train_soundscapes/7843_...  \n",
       "3  ../input/birdclef-2021/train_soundscapes/42907...  \n",
       "4  ../input/birdclef-2021/train_soundscapes/7019_...  "
      ]
     },
     "execution_count": 9,
     "metadata": {},
     "output_type": "execute_result"
    }
   ],
   "source": [
    "data = pd.DataFrame(\n",
    "     [(path.stem, *path.stem.split(\"_\"), path) for path in Path(TEST_AUDIO_ROOT).glob(\"*.ogg\")],\n",
    "    columns = [\"filename\", \"id\", \"site\", \"date\", \"filepath\"]\n",
    ")\n",
    "print(data.shape)\n",
    "data.head()"
   ]
  },
  {
   "cell_type": "code",
   "execution_count": 10,
   "id": "worse-output",
   "metadata": {
    "execution": {
     "iopub.execute_input": "2021-05-28T09:48:38.140808Z",
     "iopub.status.busy": "2021-05-28T09:48:38.140159Z",
     "iopub.status.idle": "2021-05-28T09:48:38.638792Z",
     "shell.execute_reply": "2021-05-28T09:48:38.637575Z",
     "shell.execute_reply.started": "2021-05-25T04:35:38.195834Z"
    },
    "papermill": {
     "duration": 0.533408,
     "end_time": "2021-05-28T09:48:38.638945",
     "exception": false,
     "start_time": "2021-05-28T09:48:38.105537",
     "status": "completed"
    },
    "tags": []
   },
   "outputs": [],
   "source": [
    "df_train = pd.read_csv(\"../input/birdclef-2021/train_metadata.csv\")\n",
    "\n",
    "LABEL_IDS = {label: label_id for label_id,label in enumerate(sorted(df_train[\"primary_label\"].unique()))}\n",
    "INV_LABEL_IDS = {val: key for key,val in LABEL_IDS.items()}"
   ]
  },
  {
   "cell_type": "markdown",
   "id": "average-guinea",
   "metadata": {
    "id": "BNsivZZZc_PG",
    "papermill": {
     "duration": 0.029144,
     "end_time": "2021-05-28T09:48:38.697887",
     "exception": false,
     "start_time": "2021-05-28T09:48:38.668743",
     "status": "completed"
    },
    "tags": []
   },
   "source": [
    "# Inference"
   ]
  },
  {
   "cell_type": "code",
   "execution_count": 11,
   "id": "integrated-going",
   "metadata": {
    "execution": {
     "iopub.execute_input": "2021-05-28T09:48:38.760495Z",
     "iopub.status.busy": "2021-05-28T09:48:38.759877Z",
     "iopub.status.idle": "2021-05-28T09:48:42.832274Z",
     "shell.execute_reply": "2021-05-28T09:48:42.833543Z",
     "shell.execute_reply.started": "2021-05-25T04:36:16.723434Z"
    },
    "id": "AzlOErOmc_PH",
    "papermill": {
     "duration": 4.106217,
     "end_time": "2021-05-28T09:48:42.833807",
     "exception": false,
     "start_time": "2021-05-28T09:48:38.727590",
     "status": "completed"
    },
    "tags": []
   },
   "outputs": [
    {
     "data": {
      "text/plain": [
       "(20, (120, 3, 128, 201))"
      ]
     },
     "execution_count": 11,
     "metadata": {},
     "output_type": "execute_result"
    }
   ],
   "source": [
    "test_data = BirdCLEFDataset(data=data)\n",
    "len(test_data), test_data[0].shape"
   ]
  },
  {
   "cell_type": "code",
   "execution_count": 12,
   "id": "velvet-nitrogen",
   "metadata": {
    "execution": {
     "iopub.execute_input": "2021-05-28T09:48:42.941772Z",
     "iopub.status.busy": "2021-05-28T09:48:42.940731Z",
     "iopub.status.idle": "2021-05-28T09:48:42.943271Z",
     "shell.execute_reply": "2021-05-28T09:48:42.943700Z",
     "shell.execute_reply.started": "2021-05-25T04:36:24.913991Z"
    },
    "papermill": {
     "duration": 0.055598,
     "end_time": "2021-05-28T09:48:42.943873",
     "exception": false,
     "start_time": "2021-05-28T09:48:42.888275",
     "status": "completed"
    },
    "tags": []
   },
   "outputs": [],
   "source": [
    "def get_model(name, num_classes=NUM_CLASSES):\n",
    "    \"\"\"\n",
    "    Loads a pretrained model. \n",
    "    Supports ResNest, ResNext-wsl, EfficientNet, ResNext and ResNet.\n",
    "\n",
    "    Arguments:\n",
    "        name {str} -- Name of the model to load\n",
    "\n",
    "    Keyword Arguments:\n",
    "        num_classes {int} -- Number of classes to use (default: {1})\n",
    "\n",
    "    Returns:\n",
    "        torch model -- Pretrained model\n",
    "    \"\"\"\n",
    "    if \"resnest\" in name:\n",
    "        model = getattr(resnest_torch, name)(pretrained=True)\n",
    "    elif \"wsl\" in name:\n",
    "        model = torch.hub.load(\"facebookresearch/WSL-Images\", name)\n",
    "    elif name.startswith(\"resnext\") or  name.startswith(\"resnet\"):\n",
    "        model = torch.hub.load(\"pytorch/vision:v0.6.0\", name, pretrained=True)\n",
    "    elif name.startswith(\"tf_efficientnet_b\"):\n",
    "        model = getattr(timm.models.efficientnet, name)(pretrained=False)\n",
    "    elif \"efficientnet-b\" in name:\n",
    "        model = EfficientNet.from_pretrained(name)\n",
    "    else:\n",
    "        model = pretrainedmodels.__dict__[name](pretrained='imagenet')\n",
    "\n",
    "    if hasattr(model, \"fc\"):\n",
    "        nb_ft = model.fc.in_features\n",
    "        model.fc = nn.Linear(nb_ft, num_classes)\n",
    "    elif hasattr(model, \"_fc\"):\n",
    "        nb_ft = model._fc.in_features\n",
    "        model._fc = nn.Linear(nb_ft, num_classes)\n",
    "    elif hasattr(model, \"classifier\"):\n",
    "        nb_ft = model.classifier.in_features\n",
    "        model.classifier = nn.Linear(nb_ft, num_classes)\n",
    "    elif hasattr(model, \"last_linear\"):\n",
    "        nb_ft = model.last_linear.in_features\n",
    "        model.last_linear = nn.Linear(nb_ft, num_classes)\n",
    "\n",
    "    return model"
   ]
  },
  {
   "cell_type": "code",
   "execution_count": 13,
   "id": "preceding-light",
   "metadata": {
    "execution": {
     "iopub.execute_input": "2021-05-28T09:48:43.008448Z",
     "iopub.status.busy": "2021-05-28T09:48:43.007473Z",
     "iopub.status.idle": "2021-05-28T09:48:43.015531Z",
     "shell.execute_reply": "2021-05-28T09:48:43.015975Z",
     "shell.execute_reply.started": "2021-05-25T04:36:24.927944Z"
    },
    "papermill": {
     "duration": 0.042099,
     "end_time": "2021-05-28T09:48:43.016157",
     "exception": false,
     "start_time": "2021-05-28T09:48:42.974058",
     "status": "completed"
    },
    "tags": []
   },
   "outputs": [],
   "source": [
    "def load_net(checkpoint_path, num_classes=NUM_CLASSES):\n",
    "    if \"efficientnet-b0-ns\" in checkpoint_path:\n",
    "        net = timm.create_model(\"tf_efficientnet_b0_ns\", pretrained=False)\n",
    "        net.classifier = nn.Linear(net.classifier.in_features, num_classes)\n",
    "    if \"tf_efficientnet_b4\" in checkpoint_path:\n",
    "        net = timm.create_model(\"tf_efficientnet_b4\", pretrained=False)\n",
    "        net.classifier = nn.Linear(net.classifier.in_features, num_classes)\n",
    "    if \"resnest50\" in checkpoint_path:\n",
    "        net = resnest50(pretrained=False)\n",
    "        net.fc = nn.Linear(net.fc.in_features, num_classes)\n",
    "    dummy_device = torch.device(\"cpu\")\n",
    "    d = torch.load(checkpoint_path, map_location=dummy_device)\n",
    "    for key in list(d.keys()):\n",
    "        d[key.replace(\"model.\", \"\")] = d.pop(key)\n",
    "    net.load_state_dict(d)\n",
    "    net = net.to(DEVICE)\n",
    "    net = net.eval()\n",
    "    return net"
   ]
  },
  {
   "cell_type": "code",
   "execution_count": 14,
   "id": "related-heritage",
   "metadata": {
    "execution": {
     "iopub.execute_input": "2021-05-28T09:48:43.080408Z",
     "iopub.status.busy": "2021-05-28T09:48:43.079393Z",
     "iopub.status.idle": "2021-05-28T09:48:46.673361Z",
     "shell.execute_reply": "2021-05-28T09:48:46.672320Z",
     "shell.execute_reply.started": "2021-05-25T04:36:24.941133Z"
    },
    "id": "ayVLRTzLc_PI",
    "papermill": {
     "duration": 3.627647,
     "end_time": "2021-05-28T09:48:46.673532",
     "exception": false,
     "start_time": "2021-05-28T09:48:43.045885",
     "status": "completed"
    },
    "tags": []
   },
   "outputs": [],
   "source": [
    "\n",
    "checkpoint_paths = [\n",
    "    #Path(\"../input/effic-brid/tf_efficientnet_b4_sr32000_d7_v1_v1/birdclef_tf_efficientnet_b4_fold0_epoch_19_f1_val_07583_20210508074617.pth\"),\n",
    "    Path(\"../input/kkiller-birdclef-models-public/birdclef_resnest50_fold0_epoch_10_f1_val_06471_20210417161101.pth\"),\n",
    "]\n",
    "\n",
    "\n",
    "nets = [\n",
    "        load_net(checkpoint_path.as_posix()) for checkpoint_path in checkpoint_paths\n",
    "]"
   ]
  },
  {
   "cell_type": "code",
   "execution_count": 15,
   "id": "configured-selection",
   "metadata": {
    "execution": {
     "iopub.execute_input": "2021-05-28T09:48:46.740217Z",
     "iopub.status.busy": "2021-05-28T09:48:46.739555Z",
     "iopub.status.idle": "2021-05-28T09:48:46.742756Z",
     "shell.execute_reply": "2021-05-28T09:48:46.742264Z",
     "shell.execute_reply.started": "2021-05-25T04:36:31.466768Z"
    },
    "papermill": {
     "duration": 0.039411,
     "end_time": "2021-05-28T09:48:46.742894",
     "exception": false,
     "start_time": "2021-05-28T09:48:46.703483",
     "status": "completed"
    },
    "tags": []
   },
   "outputs": [],
   "source": [
    "@torch.no_grad()\n",
    "def get_thresh_preds(out, thresh=None):\n",
    "    thresh = thresh or THRESH\n",
    "    o = (-out).argsort(1)\n",
    "    npreds = (out > thresh).sum(1)\n",
    "    preds = []\n",
    "    for oo, npred in zip(o, npreds):\n",
    "        preds.append(oo[:npred].cpu().numpy().tolist())\n",
    "    return preds"
   ]
  },
  {
   "cell_type": "code",
   "execution_count": 16,
   "id": "mexican-nursery",
   "metadata": {
    "execution": {
     "iopub.execute_input": "2021-05-28T09:48:46.808776Z",
     "iopub.status.busy": "2021-05-28T09:48:46.808151Z",
     "iopub.status.idle": "2021-05-28T09:48:46.810903Z",
     "shell.execute_reply": "2021-05-28T09:48:46.811379Z",
     "shell.execute_reply.started": "2021-05-25T04:36:31.477794Z"
    },
    "papermill": {
     "duration": 0.038624,
     "end_time": "2021-05-28T09:48:46.811553",
     "exception": false,
     "start_time": "2021-05-28T09:48:46.772929",
     "status": "completed"
    },
    "tags": []
   },
   "outputs": [],
   "source": [
    "def get_bird_names(preds):\n",
    "    bird_names = []\n",
    "    for pred in preds:\n",
    "        if not pred:\n",
    "            bird_names.append(\"nocall\")\n",
    "        else:\n",
    "            bird_names.append(\" \".join([INV_LABEL_IDS[bird_id] for bird_id in pred]))\n",
    "    return bird_names"
   ]
  },
  {
   "cell_type": "code",
   "execution_count": 17,
   "id": "civic-community",
   "metadata": {
    "execution": {
     "iopub.execute_input": "2021-05-28T09:48:46.878325Z",
     "iopub.status.busy": "2021-05-28T09:48:46.877702Z",
     "iopub.status.idle": "2021-05-28T09:48:46.880806Z",
     "shell.execute_reply": "2021-05-28T09:48:46.881249Z",
     "shell.execute_reply.started": "2021-05-25T04:36:31.490496Z"
    },
    "papermill": {
     "duration": 0.040062,
     "end_time": "2021-05-28T09:48:46.881414",
     "exception": false,
     "start_time": "2021-05-28T09:48:46.841352",
     "status": "completed"
    },
    "tags": []
   },
   "outputs": [],
   "source": [
    "def predict(nets, test_data, names=True):\n",
    "    preds = []\n",
    "    with torch.no_grad():\n",
    "        for idx in  tqdm(list(range(len(test_data)))):\n",
    "            xb = torch.from_numpy(test_data[idx]).to(DEVICE)\n",
    "            pred = 0.\n",
    "            for net in nets:\n",
    "                o = net(xb)\n",
    "                o = torch.sigmoid(o)\n",
    "\n",
    "                pred += o\n",
    "\n",
    "            pred /= len(nets)\n",
    "            \n",
    "            if names:\n",
    "                pred = get_bird_names(get_thresh_preds(pred))\n",
    "\n",
    "            preds.append(pred)\n",
    "    return preds"
   ]
  },
  {
   "cell_type": "code",
   "execution_count": 18,
   "id": "electoral-fishing",
   "metadata": {
    "execution": {
     "iopub.execute_input": "2021-05-28T09:48:46.947237Z",
     "iopub.status.busy": "2021-05-28T09:48:46.946293Z",
     "iopub.status.idle": "2021-05-28T10:07:27.888319Z",
     "shell.execute_reply": "2021-05-28T10:07:27.885493Z",
     "shell.execute_reply.started": "2021-05-25T04:36:31.500907Z"
    },
    "papermill": {
     "duration": 1120.976557,
     "end_time": "2021-05-28T10:07:27.888488",
     "exception": false,
     "start_time": "2021-05-28T09:48:46.911931",
     "status": "completed"
    },
    "tags": []
   },
   "outputs": [
    {
     "data": {
      "application/vnd.jupyter.widget-view+json": {
       "model_id": "b40153d01ed64a3eac9684814eb5c74f",
       "version_major": 2,
       "version_minor": 0
      },
      "text/plain": [
       "  0%|          | 0/20 [00:00<?, ?it/s]"
      ]
     },
     "metadata": {},
     "output_type": "display_data"
    },
    {
     "name": "stdout",
     "output_type": "stream",
     "text": [
      "20\n"
     ]
    }
   ],
   "source": [
    "pred_probas = predict(nets, test_data, names=False)\n",
    "print(len(pred_probas))"
   ]
  },
  {
   "cell_type": "code",
   "execution_count": 19,
   "id": "destroyed-wildlife",
   "metadata": {
    "execution": {
     "iopub.execute_input": "2021-05-28T10:07:27.956245Z",
     "iopub.status.busy": "2021-05-28T10:07:27.955577Z",
     "iopub.status.idle": "2021-05-28T10:07:28.065413Z",
     "shell.execute_reply": "2021-05-28T10:07:28.065942Z",
     "shell.execute_reply.started": "2021-05-25T04:37:34.938717Z"
    },
    "papermill": {
     "duration": 0.145784,
     "end_time": "2021-05-28T10:07:28.066122",
     "exception": false,
     "start_time": "2021-05-28T10:07:27.920338",
     "status": "completed"
    },
    "tags": []
   },
   "outputs": [],
   "source": [
    "preds = [get_bird_names(get_thresh_preds(pred, thresh=THRESH)) for pred in pred_probas]\n",
    "# preds[:2]"
   ]
  },
  {
   "cell_type": "code",
   "execution_count": null,
   "id": "grand-supervision",
   "metadata": {
    "papermill": {
     "duration": 0.030399,
     "end_time": "2021-05-28T10:07:28.127869",
     "exception": false,
     "start_time": "2021-05-28T10:07:28.097470",
     "status": "completed"
    },
    "tags": []
   },
   "outputs": [],
   "source": []
  },
  {
   "cell_type": "code",
   "execution_count": 20,
   "id": "painful-houston",
   "metadata": {
    "execution": {
     "iopub.execute_input": "2021-05-28T10:07:28.198121Z",
     "iopub.status.busy": "2021-05-28T10:07:28.197032Z",
     "iopub.status.idle": "2021-05-28T10:07:28.199321Z",
     "shell.execute_reply": "2021-05-28T10:07:28.199870Z",
     "shell.execute_reply.started": "2021-05-25T04:37:35.121044Z"
    },
    "papermill": {
     "duration": 0.041498,
     "end_time": "2021-05-28T10:07:28.200045",
     "exception": false,
     "start_time": "2021-05-28T10:07:28.158547",
     "status": "completed"
    },
    "tags": []
   },
   "outputs": [],
   "source": [
    "def preds_as_df(data, preds):\n",
    "    sub = {\n",
    "        \"row_id\": [],\n",
    "        \"birds\": [],\n",
    "    }\n",
    "    \n",
    "    for row, pred in zip(data.itertuples(False), preds):\n",
    "        row_id = [f\"{row.id}_{row.site}_{5*i}\" for i in range(1, len(pred)+1)]\n",
    "        sub[\"birds\"] += pred\n",
    "        sub[\"row_id\"] += row_id\n",
    "        \n",
    "    sub = pd.DataFrame(sub)\n",
    "    \n",
    "    if SAMPLE_SUB_PATH:\n",
    "        sample_sub = pd.read_csv(SAMPLE_SUB_PATH, usecols=[\"row_id\"])\n",
    "        sub = sample_sub.merge(sub, on=\"row_id\", how=\"left\")\n",
    "        sub[\"birds\"] = sub[\"birds\"].fillna(\"nocall\")\n",
    "    return sub"
   ]
  },
  {
   "cell_type": "code",
   "execution_count": 21,
   "id": "aerial-cameroon",
   "metadata": {
    "execution": {
     "iopub.execute_input": "2021-05-28T10:07:28.265108Z",
     "iopub.status.busy": "2021-05-28T10:07:28.264150Z",
     "iopub.status.idle": "2021-05-28T10:07:28.282551Z",
     "shell.execute_reply": "2021-05-28T10:07:28.283003Z",
     "shell.execute_reply.started": "2021-05-25T04:37:35.129314Z"
    },
    "papermill": {
     "duration": 0.052518,
     "end_time": "2021-05-28T10:07:28.283193",
     "exception": false,
     "start_time": "2021-05-28T10:07:28.230675",
     "status": "completed"
    },
    "tags": []
   },
   "outputs": [
    {
     "name": "stdout",
     "output_type": "stream",
     "text": [
      "(2400, 2)\n"
     ]
    },
    {
     "data": {
      "text/html": [
       "<div>\n",
       "<style scoped>\n",
       "    .dataframe tbody tr th:only-of-type {\n",
       "        vertical-align: middle;\n",
       "    }\n",
       "\n",
       "    .dataframe tbody tr th {\n",
       "        vertical-align: top;\n",
       "    }\n",
       "\n",
       "    .dataframe thead th {\n",
       "        text-align: right;\n",
       "    }\n",
       "</style>\n",
       "<table border=\"1\" class=\"dataframe\">\n",
       "  <thead>\n",
       "    <tr style=\"text-align: right;\">\n",
       "      <th></th>\n",
       "      <th>row_id</th>\n",
       "      <th>birds</th>\n",
       "    </tr>\n",
       "  </thead>\n",
       "  <tbody>\n",
       "    <tr>\n",
       "      <th>0</th>\n",
       "      <td>20152_SSW_5</td>\n",
       "      <td>nocall</td>\n",
       "    </tr>\n",
       "    <tr>\n",
       "      <th>1</th>\n",
       "      <td>20152_SSW_10</td>\n",
       "      <td>nocall</td>\n",
       "    </tr>\n",
       "    <tr>\n",
       "      <th>2</th>\n",
       "      <td>20152_SSW_15</td>\n",
       "      <td>nocall</td>\n",
       "    </tr>\n",
       "    <tr>\n",
       "      <th>3</th>\n",
       "      <td>20152_SSW_20</td>\n",
       "      <td>nocall</td>\n",
       "    </tr>\n",
       "    <tr>\n",
       "      <th>4</th>\n",
       "      <td>20152_SSW_25</td>\n",
       "      <td>nocall</td>\n",
       "    </tr>\n",
       "    <tr>\n",
       "      <th>...</th>\n",
       "      <td>...</td>\n",
       "      <td>...</td>\n",
       "    </tr>\n",
       "    <tr>\n",
       "      <th>2395</th>\n",
       "      <td>26709_SSW_580</td>\n",
       "      <td>nocall</td>\n",
       "    </tr>\n",
       "    <tr>\n",
       "      <th>2396</th>\n",
       "      <td>26709_SSW_585</td>\n",
       "      <td>nocall</td>\n",
       "    </tr>\n",
       "    <tr>\n",
       "      <th>2397</th>\n",
       "      <td>26709_SSW_590</td>\n",
       "      <td>nocall</td>\n",
       "    </tr>\n",
       "    <tr>\n",
       "      <th>2398</th>\n",
       "      <td>26709_SSW_595</td>\n",
       "      <td>sonspa</td>\n",
       "    </tr>\n",
       "    <tr>\n",
       "      <th>2399</th>\n",
       "      <td>26709_SSW_600</td>\n",
       "      <td>nocall</td>\n",
       "    </tr>\n",
       "  </tbody>\n",
       "</table>\n",
       "<p>2400 rows × 2 columns</p>\n",
       "</div>"
      ],
      "text/plain": [
       "             row_id   birds\n",
       "0       20152_SSW_5  nocall\n",
       "1      20152_SSW_10  nocall\n",
       "2      20152_SSW_15  nocall\n",
       "3      20152_SSW_20  nocall\n",
       "4      20152_SSW_25  nocall\n",
       "...             ...     ...\n",
       "2395  26709_SSW_580  nocall\n",
       "2396  26709_SSW_585  nocall\n",
       "2397  26709_SSW_590  nocall\n",
       "2398  26709_SSW_595  sonspa\n",
       "2399  26709_SSW_600  nocall\n",
       "\n",
       "[2400 rows x 2 columns]"
      ]
     },
     "execution_count": 21,
     "metadata": {},
     "output_type": "execute_result"
    }
   ],
   "source": [
    "sub = preds_as_df(data, preds)\n",
    "print(sub.shape)\n",
    "sub"
   ]
  },
  {
   "cell_type": "code",
   "execution_count": 22,
   "id": "overall-pricing",
   "metadata": {
    "execution": {
     "iopub.execute_input": "2021-05-28T10:07:28.352013Z",
     "iopub.status.busy": "2021-05-28T10:07:28.351019Z",
     "iopub.status.idle": "2021-05-28T10:07:28.365075Z",
     "shell.execute_reply": "2021-05-28T10:07:28.365617Z",
     "shell.execute_reply.started": "2021-05-25T04:37:35.153949Z"
    },
    "papermill": {
     "duration": 0.050183,
     "end_time": "2021-05-28T10:07:28.365805",
     "exception": false,
     "start_time": "2021-05-28T10:07:28.315622",
     "status": "completed"
    },
    "tags": []
   },
   "outputs": [],
   "source": [
    "sub.to_csv(\"submission.csv\", index=False)"
   ]
  },
  {
   "cell_type": "code",
   "execution_count": null,
   "id": "congressional-belly",
   "metadata": {
    "papermill": {
     "duration": 0.031377,
     "end_time": "2021-05-28T10:07:28.428863",
     "exception": false,
     "start_time": "2021-05-28T10:07:28.397486",
     "status": "completed"
    },
    "tags": []
   },
   "outputs": [],
   "source": []
  },
  {
   "cell_type": "markdown",
   "id": "unique-prophet",
   "metadata": {
    "papermill": {
     "duration": 0.032218,
     "end_time": "2021-05-28T10:07:28.493514",
     "exception": false,
     "start_time": "2021-05-28T10:07:28.461296",
     "status": "completed"
    },
    "tags": []
   },
   "source": [
    "# Small validation"
   ]
  },
  {
   "cell_type": "code",
   "execution_count": 23,
   "id": "amber-diploma",
   "metadata": {
    "execution": {
     "iopub.execute_input": "2021-05-28T10:07:28.562108Z",
     "iopub.status.busy": "2021-05-28T10:07:28.560946Z",
     "iopub.status.idle": "2021-05-28T10:07:28.572628Z",
     "shell.execute_reply": "2021-05-28T10:07:28.571411Z",
     "shell.execute_reply.started": "2021-05-25T04:37:35.41681Z"
    },
    "papermill": {
     "duration": 0.04757,
     "end_time": "2021-05-28T10:07:28.572908",
     "exception": false,
     "start_time": "2021-05-28T10:07:28.525338",
     "status": "completed"
    },
    "tags": []
   },
   "outputs": [],
   "source": [
    "def get_metrics(s_true, s_pred):\n",
    "    s_true = set(s_true.split())\n",
    "    s_pred = set(s_pred.split())\n",
    "    n, n_true, n_pred = len(s_true.intersection(s_pred)), len(s_true), len(s_pred)\n",
    "    \n",
    "    prec = n/n_pred\n",
    "    rec = n/n_true\n",
    "    f1 = 2*prec*rec/(prec + rec) if prec + rec else 0\n",
    "    \n",
    "    return {\"f1\": f1, \"prec\": prec, \"rec\": rec, \"n_true\": n_true, \"n_pred\": n_pred, \"n\": n}"
   ]
  },
  {
   "cell_type": "code",
   "execution_count": 24,
   "id": "authentic-apparatus",
   "metadata": {
    "execution": {
     "iopub.execute_input": "2021-05-28T10:07:28.647758Z",
     "iopub.status.busy": "2021-05-28T10:07:28.647026Z",
     "iopub.status.idle": "2021-05-28T10:07:28.696679Z",
     "shell.execute_reply": "2021-05-28T10:07:28.695997Z",
     "shell.execute_reply.started": "2021-05-25T04:37:35.428518Z"
    },
    "papermill": {
     "duration": 0.089815,
     "end_time": "2021-05-28T10:07:28.696825",
     "exception": false,
     "start_time": "2021-05-28T10:07:28.607010",
     "status": "completed"
    },
    "tags": []
   },
   "outputs": [
    {
     "name": "stdout",
     "output_type": "stream",
     "text": [
      "2400 2400\n",
      "f1        0.694958\n",
      "prec      0.702479\n",
      "rec       0.698021\n",
      "n_true    1.130000\n",
      "n_pred    1.060833\n",
      "n         0.724583\n",
      "dtype: float64\n"
     ]
    }
   ],
   "source": [
    "if TARGET_PATH:\n",
    "    sub_target = pd.read_csv(TARGET_PATH)\n",
    "    sub_target = sub_target.merge(sub, how=\"left\", on=\"row_id\")\n",
    "    \n",
    "    print(sub_target[\"birds_x\"].notnull().sum(), sub_target[\"birds_x\"].notnull().sum())\n",
    "    assert sub_target[\"birds_x\"].notnull().all()\n",
    "    assert sub_target[\"birds_y\"].notnull().all()\n",
    "    \n",
    "    df_metrics = pd.DataFrame([get_metrics(s_true, s_pred) for s_true, s_pred in zip(sub_target.birds_x, sub_target.birds_y)])\n",
    "    \n",
    "    print(df_metrics.mean())"
   ]
  },
  {
   "cell_type": "code",
   "execution_count": 25,
   "id": "raised-postage",
   "metadata": {
    "execution": {
     "iopub.execute_input": "2021-05-28T10:07:28.780341Z",
     "iopub.status.busy": "2021-05-28T10:07:28.779677Z",
     "iopub.status.idle": "2021-05-28T10:07:28.783869Z",
     "shell.execute_reply": "2021-05-28T10:07:28.783354Z",
     "shell.execute_reply.started": "2021-05-25T04:37:35.492801Z"
    },
    "papermill": {
     "duration": 0.054103,
     "end_time": "2021-05-28T10:07:28.784005",
     "exception": false,
     "start_time": "2021-05-28T10:07:28.729902",
     "status": "completed"
    },
    "tags": []
   },
   "outputs": [
    {
     "data": {
      "text/html": [
       "<div>\n",
       "<style scoped>\n",
       "    .dataframe tbody tr th:only-of-type {\n",
       "        vertical-align: middle;\n",
       "    }\n",
       "\n",
       "    .dataframe tbody tr th {\n",
       "        vertical-align: top;\n",
       "    }\n",
       "\n",
       "    .dataframe thead th {\n",
       "        text-align: right;\n",
       "    }\n",
       "</style>\n",
       "<table border=\"1\" class=\"dataframe\">\n",
       "  <thead>\n",
       "    <tr style=\"text-align: right;\">\n",
       "      <th></th>\n",
       "      <th>row_id</th>\n",
       "      <th>site</th>\n",
       "      <th>audio_id</th>\n",
       "      <th>seconds</th>\n",
       "      <th>birds_x</th>\n",
       "      <th>birds_y</th>\n",
       "    </tr>\n",
       "  </thead>\n",
       "  <tbody>\n",
       "    <tr>\n",
       "      <th>9</th>\n",
       "      <td>7019_COR_50</td>\n",
       "      <td>COR</td>\n",
       "      <td>7019</td>\n",
       "      <td>50</td>\n",
       "      <td>nocall</td>\n",
       "      <td>comrav</td>\n",
       "    </tr>\n",
       "    <tr>\n",
       "      <th>12</th>\n",
       "      <td>7019_COR_65</td>\n",
       "      <td>COR</td>\n",
       "      <td>7019</td>\n",
       "      <td>65</td>\n",
       "      <td>nocall</td>\n",
       "      <td>bucmot2</td>\n",
       "    </tr>\n",
       "    <tr>\n",
       "      <th>16</th>\n",
       "      <td>7019_COR_85</td>\n",
       "      <td>COR</td>\n",
       "      <td>7019</td>\n",
       "      <td>85</td>\n",
       "      <td>nocall</td>\n",
       "      <td>bucmot2</td>\n",
       "    </tr>\n",
       "    <tr>\n",
       "      <th>18</th>\n",
       "      <td>7019_COR_95</td>\n",
       "      <td>COR</td>\n",
       "      <td>7019</td>\n",
       "      <td>95</td>\n",
       "      <td>nocall</td>\n",
       "      <td>plupig2</td>\n",
       "    </tr>\n",
       "    <tr>\n",
       "      <th>26</th>\n",
       "      <td>7019_COR_135</td>\n",
       "      <td>COR</td>\n",
       "      <td>7019</td>\n",
       "      <td>135</td>\n",
       "      <td>nocall</td>\n",
       "      <td>bucmot2</td>\n",
       "    </tr>\n",
       "    <tr>\n",
       "      <th>...</th>\n",
       "      <td>...</td>\n",
       "      <td>...</td>\n",
       "      <td>...</td>\n",
       "      <td>...</td>\n",
       "      <td>...</td>\n",
       "      <td>...</td>\n",
       "    </tr>\n",
       "    <tr>\n",
       "      <th>2278</th>\n",
       "      <td>51010_SSW_595</td>\n",
       "      <td>SSW</td>\n",
       "      <td>51010</td>\n",
       "      <td>595</td>\n",
       "      <td>bkcchi</td>\n",
       "      <td>bkcchi</td>\n",
       "    </tr>\n",
       "    <tr>\n",
       "      <th>2320</th>\n",
       "      <td>54955_SSW_205</td>\n",
       "      <td>SSW</td>\n",
       "      <td>54955</td>\n",
       "      <td>205</td>\n",
       "      <td>nocall</td>\n",
       "      <td>swathr</td>\n",
       "    </tr>\n",
       "    <tr>\n",
       "      <th>2375</th>\n",
       "      <td>54955_SSW_480</td>\n",
       "      <td>SSW</td>\n",
       "      <td>54955</td>\n",
       "      <td>480</td>\n",
       "      <td>ovenbi1</td>\n",
       "      <td>ovenbi1</td>\n",
       "    </tr>\n",
       "    <tr>\n",
       "      <th>2393</th>\n",
       "      <td>54955_SSW_570</td>\n",
       "      <td>SSW</td>\n",
       "      <td>54955</td>\n",
       "      <td>570</td>\n",
       "      <td>grycat</td>\n",
       "      <td>grycat</td>\n",
       "    </tr>\n",
       "    <tr>\n",
       "      <th>2395</th>\n",
       "      <td>54955_SSW_580</td>\n",
       "      <td>SSW</td>\n",
       "      <td>54955</td>\n",
       "      <td>580</td>\n",
       "      <td>nocall</td>\n",
       "      <td>comyel</td>\n",
       "    </tr>\n",
       "  </tbody>\n",
       "</table>\n",
       "<p>483 rows × 6 columns</p>\n",
       "</div>"
      ],
      "text/plain": [
       "             row_id site  audio_id  seconds  birds_x  birds_y\n",
       "9       7019_COR_50  COR      7019       50   nocall   comrav\n",
       "12      7019_COR_65  COR      7019       65   nocall  bucmot2\n",
       "16      7019_COR_85  COR      7019       85   nocall  bucmot2\n",
       "18      7019_COR_95  COR      7019       95   nocall  plupig2\n",
       "26     7019_COR_135  COR      7019      135   nocall  bucmot2\n",
       "...             ...  ...       ...      ...      ...      ...\n",
       "2278  51010_SSW_595  SSW     51010      595   bkcchi   bkcchi\n",
       "2320  54955_SSW_205  SSW     54955      205   nocall   swathr\n",
       "2375  54955_SSW_480  SSW     54955      480  ovenbi1  ovenbi1\n",
       "2393  54955_SSW_570  SSW     54955      570   grycat   grycat\n",
       "2395  54955_SSW_580  SSW     54955      580   nocall   comyel\n",
       "\n",
       "[483 rows x 6 columns]"
      ]
     },
     "execution_count": 25,
     "metadata": {},
     "output_type": "execute_result"
    }
   ],
   "source": [
    "sub_target[sub_target.birds_y != \"nocall\"]"
   ]
  },
  {
   "cell_type": "code",
   "execution_count": 26,
   "id": "grand-recall",
   "metadata": {
    "execution": {
     "iopub.execute_input": "2021-05-28T10:07:28.856453Z",
     "iopub.status.busy": "2021-05-28T10:07:28.855772Z",
     "iopub.status.idle": "2021-05-28T10:07:28.869282Z",
     "shell.execute_reply": "2021-05-28T10:07:28.869797Z",
     "shell.execute_reply.started": "2021-05-25T04:37:35.515369Z"
    },
    "papermill": {
     "duration": 0.053581,
     "end_time": "2021-05-28T10:07:28.869973",
     "exception": false,
     "start_time": "2021-05-28T10:07:28.816392",
     "status": "completed"
    },
    "tags": []
   },
   "outputs": [
    {
     "data": {
      "text/html": [
       "<div>\n",
       "<style scoped>\n",
       "    .dataframe tbody tr th:only-of-type {\n",
       "        vertical-align: middle;\n",
       "    }\n",
       "\n",
       "    .dataframe tbody tr th {\n",
       "        vertical-align: top;\n",
       "    }\n",
       "\n",
       "    .dataframe thead th {\n",
       "        text-align: right;\n",
       "    }\n",
       "</style>\n",
       "<table border=\"1\" class=\"dataframe\">\n",
       "  <thead>\n",
       "    <tr style=\"text-align: right;\">\n",
       "      <th></th>\n",
       "      <th>row_id</th>\n",
       "      <th>site</th>\n",
       "      <th>audio_id</th>\n",
       "      <th>seconds</th>\n",
       "      <th>birds_x</th>\n",
       "      <th>birds_y</th>\n",
       "    </tr>\n",
       "  </thead>\n",
       "  <tbody>\n",
       "    <tr>\n",
       "      <th>240</th>\n",
       "      <td>11254_COR_5</td>\n",
       "      <td>COR</td>\n",
       "      <td>11254</td>\n",
       "      <td>5</td>\n",
       "      <td>rubwre1</td>\n",
       "      <td>wbwwre1 rubwre1 burwar1 gcrwar</td>\n",
       "    </tr>\n",
       "    <tr>\n",
       "      <th>242</th>\n",
       "      <td>11254_COR_15</td>\n",
       "      <td>COR</td>\n",
       "      <td>11254</td>\n",
       "      <td>15</td>\n",
       "      <td>rubwre1</td>\n",
       "      <td>wbwwre1</td>\n",
       "    </tr>\n",
       "    <tr>\n",
       "      <th>244</th>\n",
       "      <td>11254_COR_25</td>\n",
       "      <td>COR</td>\n",
       "      <td>11254</td>\n",
       "      <td>25</td>\n",
       "      <td>rubwre1</td>\n",
       "      <td>rubwre1 goftyr1 wbwwre1</td>\n",
       "    </tr>\n",
       "    <tr>\n",
       "      <th>267</th>\n",
       "      <td>11254_COR_140</td>\n",
       "      <td>COR</td>\n",
       "      <td>11254</td>\n",
       "      <td>140</td>\n",
       "      <td>obnthr1</td>\n",
       "      <td>nocall</td>\n",
       "    </tr>\n",
       "    <tr>\n",
       "      <th>268</th>\n",
       "      <td>11254_COR_145</td>\n",
       "      <td>COR</td>\n",
       "      <td>11254</td>\n",
       "      <td>145</td>\n",
       "      <td>obnthr1</td>\n",
       "      <td>nocall</td>\n",
       "    </tr>\n",
       "    <tr>\n",
       "      <th>...</th>\n",
       "      <td>...</td>\n",
       "      <td>...</td>\n",
       "      <td>...</td>\n",
       "      <td>...</td>\n",
       "      <td>...</td>\n",
       "      <td>...</td>\n",
       "    </tr>\n",
       "    <tr>\n",
       "      <th>2391</th>\n",
       "      <td>54955_SSW_560</td>\n",
       "      <td>SSW</td>\n",
       "      <td>54955</td>\n",
       "      <td>560</td>\n",
       "      <td>grycat</td>\n",
       "      <td>nocall</td>\n",
       "    </tr>\n",
       "    <tr>\n",
       "      <th>2393</th>\n",
       "      <td>54955_SSW_570</td>\n",
       "      <td>SSW</td>\n",
       "      <td>54955</td>\n",
       "      <td>570</td>\n",
       "      <td>grycat</td>\n",
       "      <td>grycat</td>\n",
       "    </tr>\n",
       "    <tr>\n",
       "      <th>2394</th>\n",
       "      <td>54955_SSW_575</td>\n",
       "      <td>SSW</td>\n",
       "      <td>54955</td>\n",
       "      <td>575</td>\n",
       "      <td>chswar</td>\n",
       "      <td>nocall</td>\n",
       "    </tr>\n",
       "    <tr>\n",
       "      <th>2396</th>\n",
       "      <td>54955_SSW_585</td>\n",
       "      <td>SSW</td>\n",
       "      <td>54955</td>\n",
       "      <td>585</td>\n",
       "      <td>grycat</td>\n",
       "      <td>nocall</td>\n",
       "    </tr>\n",
       "    <tr>\n",
       "      <th>2397</th>\n",
       "      <td>54955_SSW_590</td>\n",
       "      <td>SSW</td>\n",
       "      <td>54955</td>\n",
       "      <td>590</td>\n",
       "      <td>grycat</td>\n",
       "      <td>nocall</td>\n",
       "    </tr>\n",
       "  </tbody>\n",
       "</table>\n",
       "<p>871 rows × 6 columns</p>\n",
       "</div>"
      ],
      "text/plain": [
       "             row_id site  audio_id  seconds  birds_x  \\\n",
       "240     11254_COR_5  COR     11254        5  rubwre1   \n",
       "242    11254_COR_15  COR     11254       15  rubwre1   \n",
       "244    11254_COR_25  COR     11254       25  rubwre1   \n",
       "267   11254_COR_140  COR     11254      140  obnthr1   \n",
       "268   11254_COR_145  COR     11254      145  obnthr1   \n",
       "...             ...  ...       ...      ...      ...   \n",
       "2391  54955_SSW_560  SSW     54955      560   grycat   \n",
       "2393  54955_SSW_570  SSW     54955      570   grycat   \n",
       "2394  54955_SSW_575  SSW     54955      575   chswar   \n",
       "2396  54955_SSW_585  SSW     54955      585   grycat   \n",
       "2397  54955_SSW_590  SSW     54955      590   grycat   \n",
       "\n",
       "                             birds_y  \n",
       "240   wbwwre1 rubwre1 burwar1 gcrwar  \n",
       "242                          wbwwre1  \n",
       "244          rubwre1 goftyr1 wbwwre1  \n",
       "267                           nocall  \n",
       "268                           nocall  \n",
       "...                              ...  \n",
       "2391                          nocall  \n",
       "2393                          grycat  \n",
       "2394                          nocall  \n",
       "2396                          nocall  \n",
       "2397                          nocall  \n",
       "\n",
       "[871 rows x 6 columns]"
      ]
     },
     "execution_count": 26,
     "metadata": {},
     "output_type": "execute_result"
    }
   ],
   "source": [
    "sub_target[sub_target.birds_x != \"nocall\"]"
   ]
  },
  {
   "cell_type": "code",
   "execution_count": null,
   "id": "agricultural-storage",
   "metadata": {
    "papermill": {
     "duration": 0.032647,
     "end_time": "2021-05-28T10:07:28.939148",
     "exception": false,
     "start_time": "2021-05-28T10:07:28.906501",
     "status": "completed"
    },
    "tags": []
   },
   "outputs": [],
   "source": []
  }
 ],
 "metadata": {
  "kernelspec": {
   "display_name": "Python 3",
   "language": "python",
   "name": "python3"
  },
  "language_info": {
   "codemirror_mode": {
    "name": "ipython",
    "version": 3
   },
   "file_extension": ".py",
   "mimetype": "text/x-python",
   "name": "python",
   "nbconvert_exporter": "python",
   "pygments_lexer": "ipython3",
   "version": "3.7.9"
  },
  "papermill": {
   "default_parameters": {},
   "duration": 1176.031766,
   "end_time": "2021-05-28T10:07:30.084627",
   "environment_variables": {},
   "exception": null,
   "input_path": "__notebook__.ipynb",
   "output_path": "__notebook__.ipynb",
   "parameters": {},
   "start_time": "2021-05-28T09:47:54.052861",
   "version": "2.3.2"
  },
  "widgets": {
   "application/vnd.jupyter.widget-state+json": {
    "state": {
     "01efa53b384b418fbe4daddbe921f06e": {
      "model_module": "@jupyter-widgets/base",
      "model_module_version": "1.2.0",
      "model_name": "LayoutModel",
      "state": {
       "_model_module": "@jupyter-widgets/base",
       "_model_module_version": "1.2.0",
       "_model_name": "LayoutModel",
       "_view_count": null,
       "_view_module": "@jupyter-widgets/base",
       "_view_module_version": "1.2.0",
       "_view_name": "LayoutView",
       "align_content": null,
       "align_items": null,
       "align_self": null,
       "border": null,
       "bottom": null,
       "display": null,
       "flex": null,
       "flex_flow": null,
       "grid_area": null,
       "grid_auto_columns": null,
       "grid_auto_flow": null,
       "grid_auto_rows": null,
       "grid_column": null,
       "grid_gap": null,
       "grid_row": null,
       "grid_template_areas": null,
       "grid_template_columns": null,
       "grid_template_rows": null,
       "height": null,
       "justify_content": null,
       "justify_items": null,
       "left": null,
       "margin": null,
       "max_height": null,
       "max_width": null,
       "min_height": null,
       "min_width": null,
       "object_fit": null,
       "object_position": null,
       "order": null,
       "overflow": null,
       "overflow_x": null,
       "overflow_y": null,
       "padding": null,
       "right": null,
       "top": null,
       "visibility": null,
       "width": null
      }
     },
     "190e7f8a6525462bb05b0e8c1fbe769f": {
      "model_module": "@jupyter-widgets/base",
      "model_module_version": "1.2.0",
      "model_name": "LayoutModel",
      "state": {
       "_model_module": "@jupyter-widgets/base",
       "_model_module_version": "1.2.0",
       "_model_name": "LayoutModel",
       "_view_count": null,
       "_view_module": "@jupyter-widgets/base",
       "_view_module_version": "1.2.0",
       "_view_name": "LayoutView",
       "align_content": null,
       "align_items": null,
       "align_self": null,
       "border": null,
       "bottom": null,
       "display": null,
       "flex": null,
       "flex_flow": null,
       "grid_area": null,
       "grid_auto_columns": null,
       "grid_auto_flow": null,
       "grid_auto_rows": null,
       "grid_column": null,
       "grid_gap": null,
       "grid_row": null,
       "grid_template_areas": null,
       "grid_template_columns": null,
       "grid_template_rows": null,
       "height": null,
       "justify_content": null,
       "justify_items": null,
       "left": null,
       "margin": null,
       "max_height": null,
       "max_width": null,
       "min_height": null,
       "min_width": null,
       "object_fit": null,
       "object_position": null,
       "order": null,
       "overflow": null,
       "overflow_x": null,
       "overflow_y": null,
       "padding": null,
       "right": null,
       "top": null,
       "visibility": null,
       "width": null
      }
     },
     "26aa1ff65c094696bd8ad94616d9c3c8": {
      "model_module": "@jupyter-widgets/controls",
      "model_module_version": "1.5.0",
      "model_name": "HTMLModel",
      "state": {
       "_dom_classes": [],
       "_model_module": "@jupyter-widgets/controls",
       "_model_module_version": "1.5.0",
       "_model_name": "HTMLModel",
       "_view_count": null,
       "_view_module": "@jupyter-widgets/controls",
       "_view_module_version": "1.5.0",
       "_view_name": "HTMLView",
       "description": "",
       "description_tooltip": null,
       "layout": "IPY_MODEL_53c3f0c2b4974f878f6f7fcc0d02002c",
       "placeholder": "​",
       "style": "IPY_MODEL_56936ad7c2464004a5a317c86af7f1df",
       "value": "100%"
      }
     },
     "4138eba8010a416ca79a4489b02e57b2": {
      "model_module": "@jupyter-widgets/controls",
      "model_module_version": "1.5.0",
      "model_name": "FloatProgressModel",
      "state": {
       "_dom_classes": [],
       "_model_module": "@jupyter-widgets/controls",
       "_model_module_version": "1.5.0",
       "_model_name": "FloatProgressModel",
       "_view_count": null,
       "_view_module": "@jupyter-widgets/controls",
       "_view_module_version": "1.5.0",
       "_view_name": "ProgressView",
       "bar_style": "success",
       "description": "",
       "description_tooltip": null,
       "layout": "IPY_MODEL_01efa53b384b418fbe4daddbe921f06e",
       "max": 20.0,
       "min": 0.0,
       "orientation": "horizontal",
       "style": "IPY_MODEL_cc6033b5ad474889add8de0f7a5a897f",
       "value": 20.0
      }
     },
     "43b22f3dbbfa411f8cbd5cf704e42109": {
      "model_module": "@jupyter-widgets/controls",
      "model_module_version": "1.5.0",
      "model_name": "HTMLModel",
      "state": {
       "_dom_classes": [],
       "_model_module": "@jupyter-widgets/controls",
       "_model_module_version": "1.5.0",
       "_model_name": "HTMLModel",
       "_view_count": null,
       "_view_module": "@jupyter-widgets/controls",
       "_view_module_version": "1.5.0",
       "_view_name": "HTMLView",
       "description": "",
       "description_tooltip": null,
       "layout": "IPY_MODEL_190e7f8a6525462bb05b0e8c1fbe769f",
       "placeholder": "​",
       "style": "IPY_MODEL_780ccf7305b04c0b8d1cb2140659dcf9",
       "value": " 20/20 [18:40&lt;00:00, 56.53s/it]"
      }
     },
     "53c3f0c2b4974f878f6f7fcc0d02002c": {
      "model_module": "@jupyter-widgets/base",
      "model_module_version": "1.2.0",
      "model_name": "LayoutModel",
      "state": {
       "_model_module": "@jupyter-widgets/base",
       "_model_module_version": "1.2.0",
       "_model_name": "LayoutModel",
       "_view_count": null,
       "_view_module": "@jupyter-widgets/base",
       "_view_module_version": "1.2.0",
       "_view_name": "LayoutView",
       "align_content": null,
       "align_items": null,
       "align_self": null,
       "border": null,
       "bottom": null,
       "display": null,
       "flex": null,
       "flex_flow": null,
       "grid_area": null,
       "grid_auto_columns": null,
       "grid_auto_flow": null,
       "grid_auto_rows": null,
       "grid_column": null,
       "grid_gap": null,
       "grid_row": null,
       "grid_template_areas": null,
       "grid_template_columns": null,
       "grid_template_rows": null,
       "height": null,
       "justify_content": null,
       "justify_items": null,
       "left": null,
       "margin": null,
       "max_height": null,
       "max_width": null,
       "min_height": null,
       "min_width": null,
       "object_fit": null,
       "object_position": null,
       "order": null,
       "overflow": null,
       "overflow_x": null,
       "overflow_y": null,
       "padding": null,
       "right": null,
       "top": null,
       "visibility": null,
       "width": null
      }
     },
     "56936ad7c2464004a5a317c86af7f1df": {
      "model_module": "@jupyter-widgets/controls",
      "model_module_version": "1.5.0",
      "model_name": "DescriptionStyleModel",
      "state": {
       "_model_module": "@jupyter-widgets/controls",
       "_model_module_version": "1.5.0",
       "_model_name": "DescriptionStyleModel",
       "_view_count": null,
       "_view_module": "@jupyter-widgets/base",
       "_view_module_version": "1.2.0",
       "_view_name": "StyleView",
       "description_width": ""
      }
     },
     "780ccf7305b04c0b8d1cb2140659dcf9": {
      "model_module": "@jupyter-widgets/controls",
      "model_module_version": "1.5.0",
      "model_name": "DescriptionStyleModel",
      "state": {
       "_model_module": "@jupyter-widgets/controls",
       "_model_module_version": "1.5.0",
       "_model_name": "DescriptionStyleModel",
       "_view_count": null,
       "_view_module": "@jupyter-widgets/base",
       "_view_module_version": "1.2.0",
       "_view_name": "StyleView",
       "description_width": ""
      }
     },
     "9cf8d5211d2245ce8e63bf843ac62e79": {
      "model_module": "@jupyter-widgets/base",
      "model_module_version": "1.2.0",
      "model_name": "LayoutModel",
      "state": {
       "_model_module": "@jupyter-widgets/base",
       "_model_module_version": "1.2.0",
       "_model_name": "LayoutModel",
       "_view_count": null,
       "_view_module": "@jupyter-widgets/base",
       "_view_module_version": "1.2.0",
       "_view_name": "LayoutView",
       "align_content": null,
       "align_items": null,
       "align_self": null,
       "border": null,
       "bottom": null,
       "display": null,
       "flex": null,
       "flex_flow": null,
       "grid_area": null,
       "grid_auto_columns": null,
       "grid_auto_flow": null,
       "grid_auto_rows": null,
       "grid_column": null,
       "grid_gap": null,
       "grid_row": null,
       "grid_template_areas": null,
       "grid_template_columns": null,
       "grid_template_rows": null,
       "height": null,
       "justify_content": null,
       "justify_items": null,
       "left": null,
       "margin": null,
       "max_height": null,
       "max_width": null,
       "min_height": null,
       "min_width": null,
       "object_fit": null,
       "object_position": null,
       "order": null,
       "overflow": null,
       "overflow_x": null,
       "overflow_y": null,
       "padding": null,
       "right": null,
       "top": null,
       "visibility": null,
       "width": null
      }
     },
     "b40153d01ed64a3eac9684814eb5c74f": {
      "model_module": "@jupyter-widgets/controls",
      "model_module_version": "1.5.0",
      "model_name": "HBoxModel",
      "state": {
       "_dom_classes": [],
       "_model_module": "@jupyter-widgets/controls",
       "_model_module_version": "1.5.0",
       "_model_name": "HBoxModel",
       "_view_count": null,
       "_view_module": "@jupyter-widgets/controls",
       "_view_module_version": "1.5.0",
       "_view_name": "HBoxView",
       "box_style": "",
       "children": [
        "IPY_MODEL_26aa1ff65c094696bd8ad94616d9c3c8",
        "IPY_MODEL_4138eba8010a416ca79a4489b02e57b2",
        "IPY_MODEL_43b22f3dbbfa411f8cbd5cf704e42109"
       ],
       "layout": "IPY_MODEL_9cf8d5211d2245ce8e63bf843ac62e79"
      }
     },
     "cc6033b5ad474889add8de0f7a5a897f": {
      "model_module": "@jupyter-widgets/controls",
      "model_module_version": "1.5.0",
      "model_name": "ProgressStyleModel",
      "state": {
       "_model_module": "@jupyter-widgets/controls",
       "_model_module_version": "1.5.0",
       "_model_name": "ProgressStyleModel",
       "_view_count": null,
       "_view_module": "@jupyter-widgets/base",
       "_view_module_version": "1.2.0",
       "_view_name": "StyleView",
       "bar_color": null,
       "description_width": ""
      }
     }
    },
    "version_major": 2,
    "version_minor": 0
   }
  }
 },
 "nbformat": 4,
 "nbformat_minor": 5
}
