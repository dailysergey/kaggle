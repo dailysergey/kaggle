{
 "cells": [
  {
   "cell_type": "markdown",
   "id": "incredible-leather",
   "metadata": {
    "papermill": {
     "duration": 0.022995,
     "end_time": "2021-06-01T03:23:08.488723",
     "exception": false,
     "start_time": "2021-06-01T03:23:08.465728",
     "status": "completed"
    },
    "tags": []
   },
   "source": [
    "# Notes"
   ]
  },
  {
   "cell_type": "markdown",
   "id": "conceptual-athletics",
   "metadata": {
    "papermill": {
     "duration": 0.022193,
     "end_time": "2021-06-01T03:23:08.532272",
     "exception": false,
     "start_time": "2021-06-01T03:23:08.510079",
     "status": "completed"
    },
    "tags": []
   },
   "source": [
    "In this kenel, I'm going to use a classical **ResneSt50** for bird identification."
   ]
  },
  {
   "cell_type": "markdown",
   "id": "strange-extension",
   "metadata": {
    "papermill": {
     "duration": 0.020863,
     "end_time": "2021-06-01T03:23:08.574263",
     "exception": false,
     "start_time": "2021-06-01T03:23:08.553400",
     "status": "completed"
    },
    "tags": []
   },
   "source": [
    "* The inference is based on these [resnest50 weights](https://www.kaggle.com/kneroma/kkiller-birdclef-models-public). Please, don't forget upvoting the dataset to make it more visible for others\n",
    "* The inference pipeline is optimized as much as I can in order to reduce execution time"
   ]
  },
  {
   "cell_type": "markdown",
   "id": "starting-decade",
   "metadata": {
    "papermill": {
     "duration": 0.021006,
     "end_time": "2021-06-01T03:23:08.616319",
     "exception": false,
     "start_time": "2021-06-01T03:23:08.595313",
     "status": "completed"
    },
    "tags": []
   },
   "source": [
    "<h2><font color=\"blue\">If you find this work useful, please don't forget upvoting :)</font></h2>"
   ]
  },
  {
   "cell_type": "code",
   "execution_count": 1,
   "id": "characteristic-croatia",
   "metadata": {
    "execution": {
     "iopub.execute_input": "2021-06-01T03:23:08.672309Z",
     "iopub.status.busy": "2021-06-01T03:23:08.663493Z",
     "iopub.status.idle": "2021-06-01T03:23:09.317760Z",
     "shell.execute_reply": "2021-06-01T03:23:09.316827Z",
     "shell.execute_reply.started": "2021-05-31T11:31:49.776943Z"
    },
    "id": "ikMF-nQSdTbF",
    "outputId": "041c6767-86ab-46e4-9b22-a4840121ecca",
    "papermill": {
     "duration": 0.680574,
     "end_time": "2021-06-01T03:23:09.317910",
     "exception": false,
     "start_time": "2021-06-01T03:23:08.637336",
     "status": "completed"
    },
    "tags": []
   },
   "outputs": [
    {
     "name": "stdout",
     "output_type": "stream",
     "text": [
      "Tue Jun  1 03:23:09 2021       \r\n",
      "+-----------------------------------------------------------------------------+\r\n",
      "| NVIDIA-SMI 450.51.06    Driver Version: 450.51.06    CUDA Version: 11.0     |\r\n",
      "|-------------------------------+----------------------+----------------------+\r\n",
      "| GPU  Name        Persistence-M| Bus-Id        Disp.A | Volatile Uncorr. ECC |\r\n",
      "| Fan  Temp  Perf  Pwr:Usage/Cap|         Memory-Usage | GPU-Util  Compute M. |\r\n",
      "|                               |                      |               MIG M. |\r\n",
      "|===============================+======================+======================|\r\n",
      "|   0  Tesla P100-PCIE...  Off  | 00000000:00:04.0 Off |                    0 |\r\n",
      "| N/A   36C    P0    26W / 250W |      0MiB / 16280MiB |      0%      Default |\r\n",
      "|                               |                      |                  N/A |\r\n",
      "+-------------------------------+----------------------+----------------------+\r\n",
      "                                                                               \r\n",
      "+-----------------------------------------------------------------------------+\r\n",
      "| Processes:                                                                  |\r\n",
      "|  GPU   GI   CI        PID   Type   Process name                  GPU Memory |\r\n",
      "|        ID   ID                                                   Usage      |\r\n",
      "|=============================================================================|\r\n",
      "|  No running processes found                                                 |\r\n",
      "+-----------------------------------------------------------------------------+\r\n"
     ]
    }
   ],
   "source": [
    "!nvidia-smi"
   ]
  },
  {
   "cell_type": "code",
   "execution_count": 2,
   "id": "higher-monroe",
   "metadata": {
    "execution": {
     "iopub.execute_input": "2021-06-01T03:23:09.366711Z",
     "iopub.status.busy": "2021-06-01T03:23:09.366002Z",
     "iopub.status.idle": "2021-06-01T03:23:37.455971Z",
     "shell.execute_reply": "2021-06-01T03:23:37.455093Z",
     "shell.execute_reply.started": "2021-05-31T11:31:50.508999Z"
    },
    "papermill": {
     "duration": 28.115864,
     "end_time": "2021-06-01T03:23:37.456140",
     "exception": false,
     "start_time": "2021-06-01T03:23:09.340276",
     "status": "completed"
    },
    "tags": []
   },
   "outputs": [],
   "source": [
    "try:\n",
    "    import resnest\n",
    "except ModuleNotFoundError:\n",
    "    !pip install -q \"../input/resnest50-fast-package/resnest-0.0.6b20200701/resnest\""
   ]
  },
  {
   "cell_type": "code",
   "execution_count": 3,
   "id": "express-doctrine",
   "metadata": {
    "execution": {
     "iopub.execute_input": "2021-06-01T03:23:37.504623Z",
     "iopub.status.busy": "2021-06-01T03:23:37.503936Z",
     "iopub.status.idle": "2021-06-01T03:23:37.506876Z",
     "shell.execute_reply": "2021-06-01T03:23:37.506473Z",
     "shell.execute_reply.started": "2021-05-31T11:32:18.52493Z"
    },
    "papermill": {
     "duration": 0.028372,
     "end_time": "2021-06-01T03:23:37.507000",
     "exception": false,
     "start_time": "2021-06-01T03:23:37.478628",
     "status": "completed"
    },
    "tags": []
   },
   "outputs": [],
   "source": [
    "import sys\n",
    "sys.path.append('../input/timm-pytorch-image-models/pytorch-image-models-master')\n",
    "sys.path.append('../input/efficientnet-pytorch/EfficientNet-PyTorch/EfficientNet-PyTorch-master')"
   ]
  },
  {
   "cell_type": "code",
   "execution_count": 4,
   "id": "infectious-affect",
   "metadata": {
    "_cell_guid": "b1076dfc-b9ad-4769-8c92-a6c4dae69d19",
    "_uuid": "8f2839f25d086af736a60e9eeb907d3b93b6e0e5",
    "execution": {
     "iopub.execute_input": "2021-06-01T03:23:37.555362Z",
     "iopub.status.busy": "2021-06-01T03:23:37.554591Z",
     "iopub.status.idle": "2021-06-01T03:23:42.224357Z",
     "shell.execute_reply": "2021-06-01T03:23:42.223232Z",
     "shell.execute_reply.started": "2021-05-31T11:32:18.530985Z"
    },
    "id": "kSCcqxf0c_O7",
    "papermill": {
     "duration": 4.695902,
     "end_time": "2021-06-01T03:23:42.224495",
     "exception": false,
     "start_time": "2021-06-01T03:23:37.528593",
     "status": "completed"
    },
    "tags": []
   },
   "outputs": [],
   "source": [
    "import numpy as np\n",
    "import librosa as lb\n",
    "import soundfile as sf\n",
    "import pandas as pd\n",
    "import cv2\n",
    "from pathlib import Path\n",
    "import re\n",
    "import random\n",
    "import timm\n",
    "import torch\n",
    "from torch import nn\n",
    "from  torch.utils.data import Dataset, DataLoader\n",
    "\n",
    "from tqdm.notebook import tqdm\n",
    "import time\n",
    "from resnest.torch import resnest50\n",
    "from efficientnet_pytorch import EfficientNet\n",
    "import torchvision"
   ]
  },
  {
   "cell_type": "markdown",
   "id": "educated-picture",
   "metadata": {
    "papermill": {
     "duration": 0.021497,
     "end_time": "2021-06-01T03:23:42.268650",
     "exception": false,
     "start_time": "2021-06-01T03:23:42.247153",
     "status": "completed"
    },
    "tags": []
   },
   "source": [
    "# Configs"
   ]
  },
  {
   "cell_type": "code",
   "execution_count": 5,
   "id": "outer-tooth",
   "metadata": {
    "execution": {
     "iopub.execute_input": "2021-06-01T03:23:42.365437Z",
     "iopub.status.busy": "2021-06-01T03:23:42.364678Z",
     "iopub.status.idle": "2021-06-01T03:23:42.371939Z",
     "shell.execute_reply": "2021-06-01T03:23:42.371544Z",
     "shell.execute_reply.started": "2021-05-31T11:32:23.600933Z"
    },
    "id": "rJhYZVIDc_O9",
    "papermill": {
     "duration": 0.082088,
     "end_time": "2021-06-01T03:23:42.372133",
     "exception": false,
     "start_time": "2021-06-01T03:23:42.290045",
     "status": "completed"
    },
    "tags": []
   },
   "outputs": [
    {
     "name": "stdout",
     "output_type": "stream",
     "text": [
      "DEVICE: cuda\n"
     ]
    }
   ],
   "source": [
    "NUM_CLASSES = 397\n",
    "SR = 32_000\n",
    "DURATION = 5\n",
    "\n",
    "THRESH = 0.3\n",
    "\n",
    "\n",
    "DEVICE = torch.device(\"cuda\" if torch.cuda.is_available() else \"cpu\")\n",
    "print(\"DEVICE:\", DEVICE)\n",
    "\n",
    "TEST_AUDIO_ROOT = Path(\"../input/birdclef-2021/test_soundscapes\")\n",
    "SAMPLE_SUB_PATH = \"../input/birdclef-2021/sample_submission.csv\"\n",
    "TARGET_PATH = None\n",
    "    \n",
    "if not len(list(TEST_AUDIO_ROOT.glob(\"*.ogg\"))):\n",
    "    TEST_AUDIO_ROOT = Path(\"../input/birdclef-2021/train_soundscapes\")\n",
    "    SAMPLE_SUB_PATH = None\n",
    "    # SAMPLE_SUB_PATH = \"../input/birdclef-2021/sample_submission.csv\"\n",
    "    TARGET_PATH = Path(\"../input/birdclef-2021/train_soundscape_labels.csv\")"
   ]
  },
  {
   "cell_type": "markdown",
   "id": "promotional-course",
   "metadata": {
    "papermill": {
     "duration": 0.021362,
     "end_time": "2021-06-01T03:23:42.416446",
     "exception": false,
     "start_time": "2021-06-01T03:23:42.395084",
     "status": "completed"
    },
    "tags": []
   },
   "source": [
    "# Data"
   ]
  },
  {
   "cell_type": "code",
   "execution_count": 6,
   "id": "ready-kingston",
   "metadata": {
    "execution": {
     "iopub.execute_input": "2021-06-01T03:23:42.467781Z",
     "iopub.status.busy": "2021-06-01T03:23:42.466061Z",
     "iopub.status.idle": "2021-06-01T03:23:42.468417Z",
     "shell.execute_reply": "2021-06-01T03:23:42.468800Z",
     "shell.execute_reply.started": "2021-05-31T11:32:23.614261Z"
    },
    "id": "4fwNhdbJc_O-",
    "papermill": {
     "duration": 0.030894,
     "end_time": "2021-06-01T03:23:42.468918",
     "exception": false,
     "start_time": "2021-06-01T03:23:42.438024",
     "status": "completed"
    },
    "tags": []
   },
   "outputs": [],
   "source": [
    "class MelSpecComputer:\n",
    "    def __init__(self, sr, n_mels, fmin, fmax, **kwargs):\n",
    "        self.sr = sr\n",
    "        self.n_mels = n_mels\n",
    "        self.fmin = fmin\n",
    "        self.fmax = fmax\n",
    "        kwargs[\"n_fft\"] = kwargs.get(\"n_fft\", self.sr//10)\n",
    "        kwargs[\"hop_length\"] = kwargs.get(\"hop_length\", self.sr//(10*4))\n",
    "        self.kwargs = kwargs\n",
    "\n",
    "    def __call__(self, y):\n",
    "\n",
    "        melspec = lb.feature.melspectrogram(\n",
    "            y, sr=self.sr, n_mels=self.n_mels, fmin=self.fmin, fmax=self.fmax, **self.kwargs,\n",
    "        )\n",
    "\n",
    "        melspec = lb.power_to_db(melspec).astype(np.float32)\n",
    "        return melspec"
   ]
  },
  {
   "cell_type": "code",
   "execution_count": 7,
   "id": "indoor-bikini",
   "metadata": {
    "execution": {
     "iopub.execute_input": "2021-06-01T03:23:42.521309Z",
     "iopub.status.busy": "2021-06-01T03:23:42.520664Z",
     "iopub.status.idle": "2021-06-01T03:23:42.524482Z",
     "shell.execute_reply": "2021-06-01T03:23:42.524070Z",
     "shell.execute_reply.started": "2021-05-31T11:32:23.621973Z"
    },
    "id": "Nk0haSTIc_O_",
    "papermill": {
     "duration": 0.034111,
     "end_time": "2021-06-01T03:23:42.524584",
     "exception": false,
     "start_time": "2021-06-01T03:23:42.490473",
     "status": "completed"
    },
    "tags": []
   },
   "outputs": [],
   "source": [
    "def random_power(images, power = 1.5, c= 0.7):\n",
    "    images = images - images.min()\n",
    "    images = images/(images.max()+0.0000001)\n",
    "    images = images**(random.random()*power + c)\n",
    "    return images\n",
    "\n",
    "def mono_to_color(X, eps=1e-6, mean=None, std=None):\n",
    "    mean = mean or X.mean()\n",
    "    std = std or X.std()\n",
    "    X = (X - mean) / (std + eps)\n",
    "    \n",
    "    _min, _max = X.min(), X.max()\n",
    "\n",
    "    if (_max - _min) > eps:\n",
    "        V = np.clip(X, _min, _max)\n",
    "        V = 255 * (V - _min) / (_max - _min)\n",
    "        V = V.astype(np.uint8)\n",
    "    else:\n",
    "        V = np.zeros_like(X, dtype=np.uint8)\n",
    "\n",
    "    return V\n",
    "\n",
    "def crop_or_pad(y, length):\n",
    "    if len(y) < length:\n",
    "        y = np.concatenate([y, length - np.zeros(len(y))])\n",
    "    elif len(y) > length:\n",
    "        y = y[:length]\n",
    "    return y"
   ]
  },
  {
   "cell_type": "code",
   "execution_count": 8,
   "id": "middle-maria",
   "metadata": {
    "execution": {
     "iopub.execute_input": "2021-06-01T03:23:42.580424Z",
     "iopub.status.busy": "2021-06-01T03:23:42.579728Z",
     "iopub.status.idle": "2021-06-01T03:23:42.583486Z",
     "shell.execute_reply": "2021-06-01T03:23:42.583027Z",
     "shell.execute_reply.started": "2021-05-31T11:32:23.635948Z"
    },
    "papermill": {
     "duration": 0.037552,
     "end_time": "2021-06-01T03:23:42.583591",
     "exception": false,
     "start_time": "2021-06-01T03:23:42.546039",
     "status": "completed"
    },
    "tags": []
   },
   "outputs": [],
   "source": [
    "class BirdCLEFDataset(Dataset):\n",
    "    def __init__(self, data, sr=SR, n_mels=128, fmin=0, fmax=None, duration=DURATION, step=None, res_type=\"kaiser_fast\", resample=True):\n",
    "        \n",
    "        self.data = data\n",
    "        \n",
    "        self.sr = sr\n",
    "        self.n_mels = n_mels\n",
    "        self.fmin = fmin\n",
    "        self.fmax = fmax or self.sr//2\n",
    "\n",
    "        self.duration = duration\n",
    "        self.audio_length = self.duration*self.sr\n",
    "        self.step = step or self.audio_length\n",
    "        \n",
    "        self.res_type = res_type\n",
    "        self.resample = resample\n",
    "\n",
    "        self.mel_spec_computer = MelSpecComputer(sr=self.sr, n_mels=self.n_mels, fmin=self.fmin,\n",
    "                                                 fmax=self.fmax)\n",
    "    def __len__(self):\n",
    "        return len(self.data)\n",
    "    \n",
    "    @staticmethod\n",
    "    def normalize(image):\n",
    "        image = image.astype(\"float32\", copy=False) / 255.0\n",
    "        image = np.stack([image, image, image])\n",
    "        return image\n",
    "    \n",
    "    def audio_to_image(self, audio):\n",
    "        melspec = self.mel_spec_computer(audio) \n",
    "        image = random_power(melspec, power = 2, c= 0.7)\n",
    "        image = mono_to_color(image)\n",
    "        image = self.normalize(image)\n",
    "        return image\n",
    "\n",
    "    def read_file(self, filepath):\n",
    "        audio, orig_sr = sf.read(filepath, dtype=\"float32\")\n",
    "\n",
    "        if self.resample and orig_sr != self.sr:\n",
    "            audio = lb.resample(audio, orig_sr, self.sr, res_type=self.res_type)\n",
    "          \n",
    "        audios = []\n",
    "        for i in range(self.audio_length, len(audio) + self.step, self.step):\n",
    "            start = max(0, i - self.audio_length)\n",
    "            end = start + self.audio_length\n",
    "            audios.append(audio[start:end])\n",
    "            \n",
    "        if len(audios[-1]) < self.audio_length:\n",
    "            audios = audios[:-1]\n",
    "            \n",
    "        images = [self.audio_to_image(audio) for audio in audios]\n",
    "        images = np.stack(images)\n",
    "        \n",
    "        return images\n",
    "    \n",
    "        \n",
    "    def __getitem__(self, idx):\n",
    "        return self.read_file(self.data.loc[idx, \"filepath\"])"
   ]
  },
  {
   "cell_type": "code",
   "execution_count": 9,
   "id": "going-feature",
   "metadata": {
    "execution": {
     "iopub.execute_input": "2021-06-01T03:23:42.631659Z",
     "iopub.status.busy": "2021-06-01T03:23:42.631098Z",
     "iopub.status.idle": "2021-06-01T03:23:42.659827Z",
     "shell.execute_reply": "2021-06-01T03:23:42.659302Z",
     "shell.execute_reply.started": "2021-05-31T11:32:23.651441Z"
    },
    "id": "rVwlOrbxc_PD",
    "outputId": "9b53ec99-634a-4b30-f9b5-75036184482b",
    "papermill": {
     "duration": 0.054696,
     "end_time": "2021-06-01T03:23:42.659955",
     "exception": false,
     "start_time": "2021-06-01T03:23:42.605259",
     "status": "completed"
    },
    "tags": []
   },
   "outputs": [
    {
     "name": "stdout",
     "output_type": "stream",
     "text": [
      "(20, 5)\n"
     ]
    },
    {
     "data": {
      "text/html": [
       "<div>\n",
       "<style scoped>\n",
       "    .dataframe tbody tr th:only-of-type {\n",
       "        vertical-align: middle;\n",
       "    }\n",
       "\n",
       "    .dataframe tbody tr th {\n",
       "        vertical-align: top;\n",
       "    }\n",
       "\n",
       "    .dataframe thead th {\n",
       "        text-align: right;\n",
       "    }\n",
       "</style>\n",
       "<table border=\"1\" class=\"dataframe\">\n",
       "  <thead>\n",
       "    <tr style=\"text-align: right;\">\n",
       "      <th></th>\n",
       "      <th>filename</th>\n",
       "      <th>id</th>\n",
       "      <th>site</th>\n",
       "      <th>date</th>\n",
       "      <th>filepath</th>\n",
       "    </tr>\n",
       "  </thead>\n",
       "  <tbody>\n",
       "    <tr>\n",
       "      <th>0</th>\n",
       "      <td>20152_SSW_20170805</td>\n",
       "      <td>20152</td>\n",
       "      <td>SSW</td>\n",
       "      <td>20170805</td>\n",
       "      <td>../input/birdclef-2021/train_soundscapes/20152...</td>\n",
       "    </tr>\n",
       "    <tr>\n",
       "      <th>1</th>\n",
       "      <td>57610_COR_20190904</td>\n",
       "      <td>57610</td>\n",
       "      <td>COR</td>\n",
       "      <td>20190904</td>\n",
       "      <td>../input/birdclef-2021/train_soundscapes/57610...</td>\n",
       "    </tr>\n",
       "    <tr>\n",
       "      <th>2</th>\n",
       "      <td>7843_SSW_20170325</td>\n",
       "      <td>7843</td>\n",
       "      <td>SSW</td>\n",
       "      <td>20170325</td>\n",
       "      <td>../input/birdclef-2021/train_soundscapes/7843_...</td>\n",
       "    </tr>\n",
       "    <tr>\n",
       "      <th>3</th>\n",
       "      <td>42907_SSW_20170708</td>\n",
       "      <td>42907</td>\n",
       "      <td>SSW</td>\n",
       "      <td>20170708</td>\n",
       "      <td>../input/birdclef-2021/train_soundscapes/42907...</td>\n",
       "    </tr>\n",
       "    <tr>\n",
       "      <th>4</th>\n",
       "      <td>7019_COR_20190904</td>\n",
       "      <td>7019</td>\n",
       "      <td>COR</td>\n",
       "      <td>20190904</td>\n",
       "      <td>../input/birdclef-2021/train_soundscapes/7019_...</td>\n",
       "    </tr>\n",
       "  </tbody>\n",
       "</table>\n",
       "</div>"
      ],
      "text/plain": [
       "             filename     id site      date  \\\n",
       "0  20152_SSW_20170805  20152  SSW  20170805   \n",
       "1  57610_COR_20190904  57610  COR  20190904   \n",
       "2   7843_SSW_20170325   7843  SSW  20170325   \n",
       "3  42907_SSW_20170708  42907  SSW  20170708   \n",
       "4   7019_COR_20190904   7019  COR  20190904   \n",
       "\n",
       "                                            filepath  \n",
       "0  ../input/birdclef-2021/train_soundscapes/20152...  \n",
       "1  ../input/birdclef-2021/train_soundscapes/57610...  \n",
       "2  ../input/birdclef-2021/train_soundscapes/7843_...  \n",
       "3  ../input/birdclef-2021/train_soundscapes/42907...  \n",
       "4  ../input/birdclef-2021/train_soundscapes/7019_...  "
      ]
     },
     "execution_count": 9,
     "metadata": {},
     "output_type": "execute_result"
    }
   ],
   "source": [
    "data = pd.DataFrame(\n",
    "     [(path.stem, *path.stem.split(\"_\"), path) for path in Path(TEST_AUDIO_ROOT).glob(\"*.ogg\")],\n",
    "    columns = [\"filename\", \"id\", \"site\", \"date\", \"filepath\"]\n",
    ")\n",
    "print(data.shape)\n",
    "data.head()"
   ]
  },
  {
   "cell_type": "code",
   "execution_count": 10,
   "id": "antique-father",
   "metadata": {
    "execution": {
     "iopub.execute_input": "2021-06-01T03:23:42.710354Z",
     "iopub.status.busy": "2021-06-01T03:23:42.709826Z",
     "iopub.status.idle": "2021-06-01T03:23:43.039821Z",
     "shell.execute_reply": "2021-06-01T03:23:43.039263Z",
     "shell.execute_reply.started": "2021-05-31T11:32:23.697623Z"
    },
    "papermill": {
     "duration": 0.357544,
     "end_time": "2021-06-01T03:23:43.039949",
     "exception": false,
     "start_time": "2021-06-01T03:23:42.682405",
     "status": "completed"
    },
    "tags": []
   },
   "outputs": [],
   "source": [
    "df_train = pd.read_csv(\"../input/birdclef-2021/train_metadata.csv\")\n",
    "\n",
    "LABEL_IDS = {label: label_id for label_id,label in enumerate(sorted(df_train[\"primary_label\"].unique()))}\n",
    "INV_LABEL_IDS = {val: key for key,val in LABEL_IDS.items()}"
   ]
  },
  {
   "cell_type": "markdown",
   "id": "stuffed-century",
   "metadata": {
    "id": "BNsivZZZc_PG",
    "papermill": {
     "duration": 0.022271,
     "end_time": "2021-06-01T03:23:43.084797",
     "exception": false,
     "start_time": "2021-06-01T03:23:43.062526",
     "status": "completed"
    },
    "tags": []
   },
   "source": [
    "# Inference"
   ]
  },
  {
   "cell_type": "code",
   "execution_count": 11,
   "id": "expensive-trial",
   "metadata": {
    "execution": {
     "iopub.execute_input": "2021-06-01T03:23:43.133898Z",
     "iopub.status.busy": "2021-06-01T03:23:43.133380Z",
     "iopub.status.idle": "2021-06-01T03:23:46.124768Z",
     "shell.execute_reply": "2021-06-01T03:23:46.125896Z",
     "shell.execute_reply.started": "2021-05-31T11:32:24.126024Z"
    },
    "id": "AzlOErOmc_PH",
    "papermill": {
     "duration": 3.018907,
     "end_time": "2021-06-01T03:23:46.126144",
     "exception": false,
     "start_time": "2021-06-01T03:23:43.107237",
     "status": "completed"
    },
    "tags": []
   },
   "outputs": [
    {
     "data": {
      "text/plain": [
       "(20, (120, 3, 128, 201))"
      ]
     },
     "execution_count": 11,
     "metadata": {},
     "output_type": "execute_result"
    }
   ],
   "source": [
    "test_data = BirdCLEFDataset(data=data)\n",
    "len(test_data), test_data[0].shape"
   ]
  },
  {
   "cell_type": "code",
   "execution_count": 12,
   "id": "polar-digit",
   "metadata": {
    "execution": {
     "iopub.execute_input": "2021-06-01T03:23:46.220478Z",
     "iopub.status.busy": "2021-06-01T03:23:46.219661Z",
     "iopub.status.idle": "2021-06-01T03:23:46.224009Z",
     "shell.execute_reply": "2021-06-01T03:23:46.224787Z",
     "shell.execute_reply.started": "2021-05-31T11:32:27.974089Z"
    },
    "papermill": {
     "duration": 0.057902,
     "end_time": "2021-06-01T03:23:46.224998",
     "exception": false,
     "start_time": "2021-06-01T03:23:46.167096",
     "status": "completed"
    },
    "tags": []
   },
   "outputs": [],
   "source": [
    "def get_model(name, num_classes=NUM_CLASSES):\n",
    "    \"\"\"\n",
    "    Loads a pretrained model. \n",
    "    Supports ResNest, ResNext-wsl, EfficientNet, ResNext and ResNet.\n",
    "\n",
    "    Arguments:\n",
    "        name {str} -- Name of the model to load\n",
    "\n",
    "    Keyword Arguments:\n",
    "        num_classes {int} -- Number of classes to use (default: {1})\n",
    "\n",
    "    Returns:\n",
    "        torch model -- Pretrained model\n",
    "    \"\"\"\n",
    "    if \"resnext\" in checkpoint_path:\n",
    "        net = torchvision.models.resnext50_32x4d(pretrained=False)\n",
    "        net.fc = nn.Linear(net.fc.in_features, num_classes)\n",
    "    if \"tf_efficientnet_b4\" in checkpoint_path:\n",
    "        net = timm.create_model(\"tf_efficientnet_b4\", pretrained=False)\n",
    "        net.classifier = nn.Linear(net.classifier.in_features, num_classes)\n",
    "    if \"resnest\" in name:\n",
    "        model = getattr(resnest_torch, name)(pretrained=True)\n",
    "    elif \"wsl\" in name:\n",
    "        model = torch.hub.load(\"facebookresearch/WSL-Images\", name)\n",
    "    elif name.startswith(\"resnext\") or  name.startswith(\"resnet\"):\n",
    "        model = torch.hub.load(\"pytorch/vision:v0.6.0\", name, pretrained=True)\n",
    "    elif name.startswith(\"tf_efficientnet_b\"):\n",
    "        model = getattr(timm.models.efficientnet, name)(pretrained=False)\n",
    "    elif \"efficientnet-b\" in name:\n",
    "        model = EfficientNet.from_pretrained(name)\n",
    "    else:\n",
    "        model = pretrainedmodels.__dict__[name](pretrained='imagenet')\n",
    "\n",
    "    if hasattr(model, \"fc\"):\n",
    "        nb_ft = model.fc.in_features\n",
    "        model.fc = nn.Linear(nb_ft, num_classes)\n",
    "    elif hasattr(model, \"_fc\"):\n",
    "        nb_ft = model._fc.in_features\n",
    "        model._fc = nn.Linear(nb_ft, num_classes)\n",
    "    elif hasattr(model, \"classifier\"):\n",
    "        nb_ft = model.classifier.in_features\n",
    "        model.classifier = nn.Linear(nb_ft, num_classes)\n",
    "    elif hasattr(model, \"last_linear\"):\n",
    "        nb_ft = model.last_linear.in_features\n",
    "        model.last_linear = nn.Linear(nb_ft, num_classes)\n",
    "\n",
    "    return model"
   ]
  },
  {
   "cell_type": "code",
   "execution_count": 13,
   "id": "baking-ranking",
   "metadata": {
    "execution": {
     "iopub.execute_input": "2021-06-01T03:23:46.290936Z",
     "iopub.status.busy": "2021-06-01T03:23:46.290436Z",
     "iopub.status.idle": "2021-06-01T03:23:46.294491Z",
     "shell.execute_reply": "2021-06-01T03:23:46.294028Z",
     "shell.execute_reply.started": "2021-05-31T11:32:27.991407Z"
    },
    "papermill": {
     "duration": 0.03607,
     "end_time": "2021-06-01T03:23:46.294598",
     "exception": false,
     "start_time": "2021-06-01T03:23:46.258528",
     "status": "completed"
    },
    "tags": []
   },
   "outputs": [],
   "source": [
    "def load_net(checkpoint_path, num_classes=NUM_CLASSES):\n",
    "    if \"efficientnet-b0\" in checkpoint_path:\n",
    "        net = EfficientNet.from_name('efficientnet-b0', num_classes=num_classes) \n",
    "        #.cuda()\n",
    "        #print(net)\n",
    "        if hasattr(net, \"fc\"):\n",
    "            nb_ft = net.fc.in_features\n",
    "            net.fc = nn.Linear(nb_ft, num_classes)\n",
    "        elif hasattr(net, \"_fc\"):\n",
    "            nb_ft = net._fc.in_features\n",
    "            net._fc = nn.Linear(nb_ft, num_classes)\n",
    "        elif hasattr(net, \"classifier\"):\n",
    "            nb_ft = net.classifier.in_features\n",
    "            net.classifier = nn.Linear(nb_ft, num_classes)\n",
    "        elif hasattr(net, \"last_linear\"):\n",
    "            nb_ft = net.last_linear.in_features\n",
    "            net.last_linear = nn.Linear(nb_ft, num_classes)\n",
    "    if \"tf_efficientnet_b4\" in checkpoint_path:\n",
    "        net = timm.create_model(\"tf_efficientnet_b4\", pretrained=False)\n",
    "        net.classifier = nn.Linear(net.classifier.in_features, num_classes)\n",
    "    if \"resnext\" in checkpoint_path:\n",
    "        net = torchvision.models.resnext50_32x4d(pretrained=False)\n",
    "        net.fc = nn.Linear(net.fc.in_features, num_classes)\n",
    "    if \"resnest50\" in checkpoint_path:\n",
    "        net = resnest50(pretrained=False)\n",
    "        net.fc = nn.Linear(net.fc.in_features, num_classes)\n",
    "    dummy_device = torch.device(\"cpu\")\n",
    "    d = torch.load(checkpoint_path, map_location=dummy_device)\n",
    "    for key in list(d.keys()):\n",
    "        d[key.replace(\"model.\", \"\")] = d.pop(key)\n",
    "    net.load_state_dict(d)\n",
    "    net = net.to(DEVICE)\n",
    "    net = net.eval()\n",
    "    return net"
   ]
  },
  {
   "cell_type": "code",
   "execution_count": 14,
   "id": "angry-colors",
   "metadata": {
    "execution": {
     "iopub.execute_input": "2021-06-01T03:23:46.344652Z",
     "iopub.status.busy": "2021-06-01T03:23:46.343974Z",
     "iopub.status.idle": "2021-06-01T03:24:00.755502Z",
     "shell.execute_reply": "2021-06-01T03:24:00.754109Z",
     "shell.execute_reply.started": "2021-05-31T11:32:28.01068Z"
    },
    "id": "ayVLRTzLc_PI",
    "papermill": {
     "duration": 14.438649,
     "end_time": "2021-06-01T03:24:00.755648",
     "exception": false,
     "start_time": "2021-06-01T03:23:46.316999",
     "status": "completed"
    },
    "tags": []
   },
   "outputs": [],
   "source": [
    "\n",
    "checkpoint_paths = [\n",
    "    Path('../input/kkiller-birdclef-models-public/birdclef_resnest50_fold0_epoch_10_f1_val_06471_20210417161101.pth'),\n",
    "    Path('../input/pytorch-models-birdclef/birdclef_efficientnet-b0_fold0_epoch_17_f1_val_05482_with_augs.pth'),\n",
    "    Path('../input/pytorch-models-birdclef/birdclef_efficientnet-b0_fold2_epoch_17_f1_val_05497_20210525142055.pth'),\n",
    "    Path('../input/pytorch-models-birdclef/birdclef_resnest50_fold0_epoch_17_f1_val_06073_with_augs.pth'),\n",
    "    Path('../input/pytorch-models-birdclef/birdclef_efficientnet-b0_fold3_epoch_21_f1_val_05505_20210526062447.pth'),\n",
    "    Path('../input/pytorch-models-birdclef/birdclef_resnest50_fold1_epoch_24_f1_val_06008_20210526112320.pth'),\n",
    "    Path('../input/pytorch-models-birdclef/birdclef_resnext_fold0_epoch_22_f1_val_04837_20210530220016.pth'),\n",
    "    Path('../input/pytorch-models-birdclef/birdclef_resnext_fold1_epoch_22_f1_val_04885_20210531181604.pth'),\n",
    "    Path('../input/pytorch-models-birdclef/birdclef_resnext_fold4_epoch_22_f1_val_04878_20210601002208.pth')\n",
    "]\n",
    "\n",
    "\n",
    "nets = [\n",
    "        load_net(checkpoint_path.as_posix()) for checkpoint_path in checkpoint_paths\n",
    "]"
   ]
  },
  {
   "cell_type": "code",
   "execution_count": 15,
   "id": "homeless-preference",
   "metadata": {
    "execution": {
     "iopub.execute_input": "2021-06-01T03:24:00.808203Z",
     "iopub.status.busy": "2021-06-01T03:24:00.806479Z",
     "iopub.status.idle": "2021-06-01T03:24:00.808752Z",
     "shell.execute_reply": "2021-06-01T03:24:00.809182Z"
    },
    "papermill": {
     "duration": 0.030607,
     "end_time": "2021-06-01T03:24:00.809313",
     "exception": false,
     "start_time": "2021-06-01T03:24:00.778706",
     "status": "completed"
    },
    "tags": []
   },
   "outputs": [],
   "source": [
    "@torch.no_grad()\n",
    "def get_thresh_preds(out, thresh=None):\n",
    "    thresh = thresh or THRESH\n",
    "    o = (-out).argsort(1)\n",
    "    npreds = (out > thresh).sum(1)\n",
    "    preds = []\n",
    "    for oo, npred in zip(o, npreds):\n",
    "        preds.append(oo[:npred].cpu().numpy().tolist())\n",
    "    return preds"
   ]
  },
  {
   "cell_type": "code",
   "execution_count": 16,
   "id": "committed-treasury",
   "metadata": {
    "execution": {
     "iopub.execute_input": "2021-06-01T03:24:00.859912Z",
     "iopub.status.busy": "2021-06-01T03:24:00.858246Z",
     "iopub.status.idle": "2021-06-01T03:24:00.860505Z",
     "shell.execute_reply": "2021-06-01T03:24:00.860879Z"
    },
    "papermill": {
     "duration": 0.029379,
     "end_time": "2021-06-01T03:24:00.861008",
     "exception": false,
     "start_time": "2021-06-01T03:24:00.831629",
     "status": "completed"
    },
    "tags": []
   },
   "outputs": [],
   "source": [
    "def get_bird_names(preds):\n",
    "    bird_names = []\n",
    "    for pred in preds:\n",
    "        if not pred:\n",
    "            bird_names.append(\"nocall\")\n",
    "        else:\n",
    "            bird_names.append(\" \".join([INV_LABEL_IDS[bird_id] for bird_id in pred]))\n",
    "    return bird_names"
   ]
  },
  {
   "cell_type": "code",
   "execution_count": 17,
   "id": "daily-failing",
   "metadata": {
    "execution": {
     "iopub.execute_input": "2021-06-01T03:24:00.912767Z",
     "iopub.status.busy": "2021-06-01T03:24:00.911705Z",
     "iopub.status.idle": "2021-06-01T03:24:00.914619Z",
     "shell.execute_reply": "2021-06-01T03:24:00.914208Z"
    },
    "papermill": {
     "duration": 0.031229,
     "end_time": "2021-06-01T03:24:00.914716",
     "exception": false,
     "start_time": "2021-06-01T03:24:00.883487",
     "status": "completed"
    },
    "tags": []
   },
   "outputs": [],
   "source": [
    "def predict(nets, test_data, names=True):\n",
    "    preds = []\n",
    "    with torch.no_grad():\n",
    "        for idx in  tqdm(list(range(len(test_data)))):\n",
    "            xb = torch.from_numpy(test_data[idx]).to(DEVICE)\n",
    "            pred = 0.\n",
    "            for net in nets:\n",
    "                o = net(xb)\n",
    "                o = torch.sigmoid(o)\n",
    "\n",
    "                pred += o\n",
    "\n",
    "            pred /= len(nets)\n",
    "            \n",
    "            if names:\n",
    "                pred = get_bird_names(get_thresh_preds(pred))\n",
    "\n",
    "            preds.append(pred)\n",
    "    return preds"
   ]
  },
  {
   "cell_type": "code",
   "execution_count": 18,
   "id": "inner-leisure",
   "metadata": {
    "execution": {
     "iopub.execute_input": "2021-06-01T03:24:00.964167Z",
     "iopub.status.busy": "2021-06-01T03:24:00.963399Z",
     "iopub.status.idle": "2021-06-01T03:25:19.916089Z",
     "shell.execute_reply": "2021-06-01T03:25:19.916497Z"
    },
    "papermill": {
     "duration": 78.979331,
     "end_time": "2021-06-01T03:25:19.916669",
     "exception": false,
     "start_time": "2021-06-01T03:24:00.937338",
     "status": "completed"
    },
    "tags": []
   },
   "outputs": [
    {
     "data": {
      "application/vnd.jupyter.widget-view+json": {
       "model_id": "11e61c47fd31419d82c17f190b98b793",
       "version_major": 2,
       "version_minor": 0
      },
      "text/plain": [
       "  0%|          | 0/20 [00:00<?, ?it/s]"
      ]
     },
     "metadata": {},
     "output_type": "display_data"
    },
    {
     "name": "stdout",
     "output_type": "stream",
     "text": [
      "20\n"
     ]
    }
   ],
   "source": [
    "pred_probas = predict(nets, test_data, names=False)\n",
    "print(len(pred_probas))"
   ]
  },
  {
   "cell_type": "code",
   "execution_count": 19,
   "id": "expressed-soviet",
   "metadata": {
    "execution": {
     "iopub.execute_input": "2021-06-01T03:25:19.967905Z",
     "iopub.status.busy": "2021-06-01T03:25:19.967391Z",
     "iopub.status.idle": "2021-06-01T03:25:20.146833Z",
     "shell.execute_reply": "2021-06-01T03:25:20.146366Z"
    },
    "papermill": {
     "duration": 0.206579,
     "end_time": "2021-06-01T03:25:20.146955",
     "exception": false,
     "start_time": "2021-06-01T03:25:19.940376",
     "status": "completed"
    },
    "tags": []
   },
   "outputs": [],
   "source": [
    "preds = [get_bird_names(get_thresh_preds(pred, thresh=THRESH)) for pred in pred_probas]\n",
    "# preds[:2]"
   ]
  },
  {
   "cell_type": "code",
   "execution_count": null,
   "id": "active-worth",
   "metadata": {
    "papermill": {
     "duration": 0.023391,
     "end_time": "2021-06-01T03:25:20.193878",
     "exception": false,
     "start_time": "2021-06-01T03:25:20.170487",
     "status": "completed"
    },
    "tags": []
   },
   "outputs": [],
   "source": []
  },
  {
   "cell_type": "code",
   "execution_count": 20,
   "id": "forward-termination",
   "metadata": {
    "execution": {
     "iopub.execute_input": "2021-06-01T03:25:20.248556Z",
     "iopub.status.busy": "2021-06-01T03:25:20.247198Z",
     "iopub.status.idle": "2021-06-01T03:25:20.250057Z",
     "shell.execute_reply": "2021-06-01T03:25:20.249645Z"
    },
    "papermill": {
     "duration": 0.032631,
     "end_time": "2021-06-01T03:25:20.250167",
     "exception": false,
     "start_time": "2021-06-01T03:25:20.217536",
     "status": "completed"
    },
    "tags": []
   },
   "outputs": [],
   "source": [
    "def preds_as_df(data, preds):\n",
    "    sub = {\n",
    "        \"row_id\": [],\n",
    "        \"birds\": [],\n",
    "    }\n",
    "    \n",
    "    for row, pred in zip(data.itertuples(False), preds):\n",
    "        row_id = [f\"{row.id}_{row.site}_{5*i}\" for i in range(1, len(pred)+1)]\n",
    "        sub[\"birds\"] += pred\n",
    "        sub[\"row_id\"] += row_id\n",
    "        \n",
    "    sub = pd.DataFrame(sub)\n",
    "    \n",
    "    if SAMPLE_SUB_PATH:\n",
    "        sample_sub = pd.read_csv(SAMPLE_SUB_PATH, usecols=[\"row_id\"])\n",
    "        sub = sample_sub.merge(sub, on=\"row_id\", how=\"left\")\n",
    "        sub[\"birds\"] = sub[\"birds\"].fillna(\"nocall\")\n",
    "    return sub"
   ]
  },
  {
   "cell_type": "code",
   "execution_count": 21,
   "id": "current-mitchell",
   "metadata": {
    "execution": {
     "iopub.execute_input": "2021-06-01T03:25:20.309944Z",
     "iopub.status.busy": "2021-06-01T03:25:20.309348Z",
     "iopub.status.idle": "2021-06-01T03:25:20.314638Z",
     "shell.execute_reply": "2021-06-01T03:25:20.314246Z"
    },
    "papermill": {
     "duration": 0.040908,
     "end_time": "2021-06-01T03:25:20.314744",
     "exception": false,
     "start_time": "2021-06-01T03:25:20.273836",
     "status": "completed"
    },
    "tags": []
   },
   "outputs": [
    {
     "name": "stdout",
     "output_type": "stream",
     "text": [
      "(2400, 2)\n"
     ]
    },
    {
     "data": {
      "text/html": [
       "<div>\n",
       "<style scoped>\n",
       "    .dataframe tbody tr th:only-of-type {\n",
       "        vertical-align: middle;\n",
       "    }\n",
       "\n",
       "    .dataframe tbody tr th {\n",
       "        vertical-align: top;\n",
       "    }\n",
       "\n",
       "    .dataframe thead th {\n",
       "        text-align: right;\n",
       "    }\n",
       "</style>\n",
       "<table border=\"1\" class=\"dataframe\">\n",
       "  <thead>\n",
       "    <tr style=\"text-align: right;\">\n",
       "      <th></th>\n",
       "      <th>row_id</th>\n",
       "      <th>birds</th>\n",
       "    </tr>\n",
       "  </thead>\n",
       "  <tbody>\n",
       "    <tr>\n",
       "      <th>0</th>\n",
       "      <td>20152_SSW_5</td>\n",
       "      <td>nocall</td>\n",
       "    </tr>\n",
       "    <tr>\n",
       "      <th>1</th>\n",
       "      <td>20152_SSW_10</td>\n",
       "      <td>nocall</td>\n",
       "    </tr>\n",
       "    <tr>\n",
       "      <th>2</th>\n",
       "      <td>20152_SSW_15</td>\n",
       "      <td>nocall</td>\n",
       "    </tr>\n",
       "    <tr>\n",
       "      <th>3</th>\n",
       "      <td>20152_SSW_20</td>\n",
       "      <td>nocall</td>\n",
       "    </tr>\n",
       "    <tr>\n",
       "      <th>4</th>\n",
       "      <td>20152_SSW_25</td>\n",
       "      <td>nocall</td>\n",
       "    </tr>\n",
       "    <tr>\n",
       "      <th>...</th>\n",
       "      <td>...</td>\n",
       "      <td>...</td>\n",
       "    </tr>\n",
       "    <tr>\n",
       "      <th>2395</th>\n",
       "      <td>26709_SSW_580</td>\n",
       "      <td>nocall</td>\n",
       "    </tr>\n",
       "    <tr>\n",
       "      <th>2396</th>\n",
       "      <td>26709_SSW_585</td>\n",
       "      <td>nocall</td>\n",
       "    </tr>\n",
       "    <tr>\n",
       "      <th>2397</th>\n",
       "      <td>26709_SSW_590</td>\n",
       "      <td>nocall</td>\n",
       "    </tr>\n",
       "    <tr>\n",
       "      <th>2398</th>\n",
       "      <td>26709_SSW_595</td>\n",
       "      <td>nocall</td>\n",
       "    </tr>\n",
       "    <tr>\n",
       "      <th>2399</th>\n",
       "      <td>26709_SSW_600</td>\n",
       "      <td>nocall</td>\n",
       "    </tr>\n",
       "  </tbody>\n",
       "</table>\n",
       "<p>2400 rows × 2 columns</p>\n",
       "</div>"
      ],
      "text/plain": [
       "             row_id   birds\n",
       "0       20152_SSW_5  nocall\n",
       "1      20152_SSW_10  nocall\n",
       "2      20152_SSW_15  nocall\n",
       "3      20152_SSW_20  nocall\n",
       "4      20152_SSW_25  nocall\n",
       "...             ...     ...\n",
       "2395  26709_SSW_580  nocall\n",
       "2396  26709_SSW_585  nocall\n",
       "2397  26709_SSW_590  nocall\n",
       "2398  26709_SSW_595  nocall\n",
       "2399  26709_SSW_600  nocall\n",
       "\n",
       "[2400 rows x 2 columns]"
      ]
     },
     "execution_count": 21,
     "metadata": {},
     "output_type": "execute_result"
    }
   ],
   "source": [
    "sub = preds_as_df(data, preds)\n",
    "print(sub.shape)\n",
    "sub"
   ]
  },
  {
   "cell_type": "code",
   "execution_count": 22,
   "id": "empirical-swing",
   "metadata": {
    "execution": {
     "iopub.execute_input": "2021-06-01T03:25:20.366753Z",
     "iopub.status.busy": "2021-06-01T03:25:20.366070Z",
     "iopub.status.idle": "2021-06-01T03:25:20.512840Z",
     "shell.execute_reply": "2021-06-01T03:25:20.511533Z"
    },
    "papermill": {
     "duration": 0.174114,
     "end_time": "2021-06-01T03:25:20.512973",
     "exception": false,
     "start_time": "2021-06-01T03:25:20.338859",
     "status": "completed"
    },
    "tags": []
   },
   "outputs": [],
   "source": [
    "sub.to_csv(\"submission.csv\", index=False)"
   ]
  },
  {
   "cell_type": "code",
   "execution_count": null,
   "id": "attractive-shift",
   "metadata": {
    "papermill": {
     "duration": 0.024058,
     "end_time": "2021-06-01T03:25:20.561534",
     "exception": false,
     "start_time": "2021-06-01T03:25:20.537476",
     "status": "completed"
    },
    "tags": []
   },
   "outputs": [],
   "source": []
  },
  {
   "cell_type": "markdown",
   "id": "angry-elements",
   "metadata": {
    "papermill": {
     "duration": 0.024273,
     "end_time": "2021-06-01T03:25:20.610032",
     "exception": false,
     "start_time": "2021-06-01T03:25:20.585759",
     "status": "completed"
    },
    "tags": []
   },
   "source": [
    "# Small validation"
   ]
  },
  {
   "cell_type": "code",
   "execution_count": 23,
   "id": "behavioral-belfast",
   "metadata": {
    "execution": {
     "iopub.execute_input": "2021-06-01T03:25:20.664621Z",
     "iopub.status.busy": "2021-06-01T03:25:20.663884Z",
     "iopub.status.idle": "2021-06-01T03:25:20.666793Z",
     "shell.execute_reply": "2021-06-01T03:25:20.666399Z"
    },
    "papermill": {
     "duration": 0.032816,
     "end_time": "2021-06-01T03:25:20.666900",
     "exception": false,
     "start_time": "2021-06-01T03:25:20.634084",
     "status": "completed"
    },
    "tags": []
   },
   "outputs": [],
   "source": [
    "def get_metrics(s_true, s_pred):\n",
    "    s_true = set(s_true.split())\n",
    "    s_pred = set(s_pred.split())\n",
    "    n, n_true, n_pred = len(s_true.intersection(s_pred)), len(s_true), len(s_pred)\n",
    "    \n",
    "    prec = n/n_pred\n",
    "    rec = n/n_true\n",
    "    f1 = 2*prec*rec/(prec + rec) if prec + rec else 0\n",
    "    \n",
    "    return {\"f1\": f1, \"prec\": prec, \"rec\": rec, \"n_true\": n_true, \"n_pred\": n_pred, \"n\": n}"
   ]
  },
  {
   "cell_type": "code",
   "execution_count": 24,
   "id": "proprietary-detector",
   "metadata": {
    "execution": {
     "iopub.execute_input": "2021-06-01T03:25:20.723436Z",
     "iopub.status.busy": "2021-06-01T03:25:20.722882Z",
     "iopub.status.idle": "2021-06-01T03:25:20.757203Z",
     "shell.execute_reply": "2021-06-01T03:25:20.757594Z"
    },
    "papermill": {
     "duration": 0.066732,
     "end_time": "2021-06-01T03:25:20.757730",
     "exception": false,
     "start_time": "2021-06-01T03:25:20.690998",
     "status": "completed"
    },
    "tags": []
   },
   "outputs": [
    {
     "name": "stdout",
     "output_type": "stream",
     "text": [
      "2400 2400\n",
      "f1        0.704778\n",
      "prec      0.717292\n",
      "rec       0.699285\n",
      "n_true    1.130000\n",
      "n_pred    1.002917\n",
      "n         0.719167\n",
      "dtype: float64\n"
     ]
    }
   ],
   "source": [
    "if TARGET_PATH:\n",
    "    sub_target = pd.read_csv(TARGET_PATH)\n",
    "    sub_target = sub_target.merge(sub, how=\"left\", on=\"row_id\")\n",
    "    \n",
    "    print(sub_target[\"birds_x\"].notnull().sum(), sub_target[\"birds_x\"].notnull().sum())\n",
    "    assert sub_target[\"birds_x\"].notnull().all()\n",
    "    assert sub_target[\"birds_y\"].notnull().all()\n",
    "    \n",
    "    df_metrics = pd.DataFrame([get_metrics(s_true, s_pred) for s_true, s_pred in zip(sub_target.birds_x, sub_target.birds_y)])\n",
    "    \n",
    "    print(df_metrics.mean())"
   ]
  },
  {
   "cell_type": "code",
   "execution_count": 25,
   "id": "positive-hollywood",
   "metadata": {
    "execution": {
     "iopub.execute_input": "2021-06-01T03:25:20.812556Z",
     "iopub.status.busy": "2021-06-01T03:25:20.811798Z",
     "iopub.status.idle": "2021-06-01T03:25:20.826770Z",
     "shell.execute_reply": "2021-06-01T03:25:20.826359Z"
    },
    "papermill": {
     "duration": 0.044104,
     "end_time": "2021-06-01T03:25:20.826881",
     "exception": false,
     "start_time": "2021-06-01T03:25:20.782777",
     "status": "completed"
    },
    "tags": []
   },
   "outputs": [
    {
     "data": {
      "text/html": [
       "<div>\n",
       "<style scoped>\n",
       "    .dataframe tbody tr th:only-of-type {\n",
       "        vertical-align: middle;\n",
       "    }\n",
       "\n",
       "    .dataframe tbody tr th {\n",
       "        vertical-align: top;\n",
       "    }\n",
       "\n",
       "    .dataframe thead th {\n",
       "        text-align: right;\n",
       "    }\n",
       "</style>\n",
       "<table border=\"1\" class=\"dataframe\">\n",
       "  <thead>\n",
       "    <tr style=\"text-align: right;\">\n",
       "      <th></th>\n",
       "      <th>row_id</th>\n",
       "      <th>site</th>\n",
       "      <th>audio_id</th>\n",
       "      <th>seconds</th>\n",
       "      <th>birds_x</th>\n",
       "      <th>birds_y</th>\n",
       "    </tr>\n",
       "  </thead>\n",
       "  <tbody>\n",
       "    <tr>\n",
       "      <th>2</th>\n",
       "      <td>7019_COR_15</td>\n",
       "      <td>COR</td>\n",
       "      <td>7019</td>\n",
       "      <td>15</td>\n",
       "      <td>nocall</td>\n",
       "      <td>bucmot2</td>\n",
       "    </tr>\n",
       "    <tr>\n",
       "      <th>4</th>\n",
       "      <td>7019_COR_25</td>\n",
       "      <td>COR</td>\n",
       "      <td>7019</td>\n",
       "      <td>25</td>\n",
       "      <td>nocall</td>\n",
       "      <td>bucmot2</td>\n",
       "    </tr>\n",
       "    <tr>\n",
       "      <th>7</th>\n",
       "      <td>7019_COR_40</td>\n",
       "      <td>COR</td>\n",
       "      <td>7019</td>\n",
       "      <td>40</td>\n",
       "      <td>nocall</td>\n",
       "      <td>bucmot2</td>\n",
       "    </tr>\n",
       "    <tr>\n",
       "      <th>12</th>\n",
       "      <td>7019_COR_65</td>\n",
       "      <td>COR</td>\n",
       "      <td>7019</td>\n",
       "      <td>65</td>\n",
       "      <td>nocall</td>\n",
       "      <td>bucmot2</td>\n",
       "    </tr>\n",
       "    <tr>\n",
       "      <th>18</th>\n",
       "      <td>7019_COR_95</td>\n",
       "      <td>COR</td>\n",
       "      <td>7019</td>\n",
       "      <td>95</td>\n",
       "      <td>nocall</td>\n",
       "      <td>plupig2</td>\n",
       "    </tr>\n",
       "    <tr>\n",
       "      <th>...</th>\n",
       "      <td>...</td>\n",
       "      <td>...</td>\n",
       "      <td>...</td>\n",
       "      <td>...</td>\n",
       "      <td>...</td>\n",
       "      <td>...</td>\n",
       "    </tr>\n",
       "    <tr>\n",
       "      <th>2272</th>\n",
       "      <td>51010_SSW_565</td>\n",
       "      <td>SSW</td>\n",
       "      <td>51010</td>\n",
       "      <td>565</td>\n",
       "      <td>bkcchi norcar</td>\n",
       "      <td>bkcchi</td>\n",
       "    </tr>\n",
       "    <tr>\n",
       "      <th>2273</th>\n",
       "      <td>51010_SSW_570</td>\n",
       "      <td>SSW</td>\n",
       "      <td>51010</td>\n",
       "      <td>570</td>\n",
       "      <td>bkcchi norcar</td>\n",
       "      <td>bkcchi</td>\n",
       "    </tr>\n",
       "    <tr>\n",
       "      <th>2276</th>\n",
       "      <td>51010_SSW_585</td>\n",
       "      <td>SSW</td>\n",
       "      <td>51010</td>\n",
       "      <td>585</td>\n",
       "      <td>balori</td>\n",
       "      <td>tuftit</td>\n",
       "    </tr>\n",
       "    <tr>\n",
       "      <th>2278</th>\n",
       "      <td>51010_SSW_595</td>\n",
       "      <td>SSW</td>\n",
       "      <td>51010</td>\n",
       "      <td>595</td>\n",
       "      <td>bkcchi</td>\n",
       "      <td>bkcchi</td>\n",
       "    </tr>\n",
       "    <tr>\n",
       "      <th>2279</th>\n",
       "      <td>51010_SSW_600</td>\n",
       "      <td>SSW</td>\n",
       "      <td>51010</td>\n",
       "      <td>600</td>\n",
       "      <td>bkcchi</td>\n",
       "      <td>bkcchi</td>\n",
       "    </tr>\n",
       "  </tbody>\n",
       "</table>\n",
       "<p>312 rows × 6 columns</p>\n",
       "</div>"
      ],
      "text/plain": [
       "             row_id site  audio_id  seconds        birds_x  birds_y\n",
       "2       7019_COR_15  COR      7019       15         nocall  bucmot2\n",
       "4       7019_COR_25  COR      7019       25         nocall  bucmot2\n",
       "7       7019_COR_40  COR      7019       40         nocall  bucmot2\n",
       "12      7019_COR_65  COR      7019       65         nocall  bucmot2\n",
       "18      7019_COR_95  COR      7019       95         nocall  plupig2\n",
       "...             ...  ...       ...      ...            ...      ...\n",
       "2272  51010_SSW_565  SSW     51010      565  bkcchi norcar   bkcchi\n",
       "2273  51010_SSW_570  SSW     51010      570  bkcchi norcar   bkcchi\n",
       "2276  51010_SSW_585  SSW     51010      585         balori   tuftit\n",
       "2278  51010_SSW_595  SSW     51010      595         bkcchi   bkcchi\n",
       "2279  51010_SSW_600  SSW     51010      600         bkcchi   bkcchi\n",
       "\n",
       "[312 rows x 6 columns]"
      ]
     },
     "execution_count": 25,
     "metadata": {},
     "output_type": "execute_result"
    }
   ],
   "source": [
    "sub_target[sub_target.birds_y != \"nocall\"]"
   ]
  },
  {
   "cell_type": "code",
   "execution_count": 26,
   "id": "stopped-embassy",
   "metadata": {
    "execution": {
     "iopub.execute_input": "2021-06-01T03:25:20.892112Z",
     "iopub.status.busy": "2021-06-01T03:25:20.891294Z",
     "iopub.status.idle": "2021-06-01T03:25:20.895452Z",
     "shell.execute_reply": "2021-06-01T03:25:20.894994Z"
    },
    "papermill": {
     "duration": 0.043368,
     "end_time": "2021-06-01T03:25:20.895556",
     "exception": false,
     "start_time": "2021-06-01T03:25:20.852188",
     "status": "completed"
    },
    "tags": []
   },
   "outputs": [
    {
     "data": {
      "text/html": [
       "<div>\n",
       "<style scoped>\n",
       "    .dataframe tbody tr th:only-of-type {\n",
       "        vertical-align: middle;\n",
       "    }\n",
       "\n",
       "    .dataframe tbody tr th {\n",
       "        vertical-align: top;\n",
       "    }\n",
       "\n",
       "    .dataframe thead th {\n",
       "        text-align: right;\n",
       "    }\n",
       "</style>\n",
       "<table border=\"1\" class=\"dataframe\">\n",
       "  <thead>\n",
       "    <tr style=\"text-align: right;\">\n",
       "      <th></th>\n",
       "      <th>row_id</th>\n",
       "      <th>site</th>\n",
       "      <th>audio_id</th>\n",
       "      <th>seconds</th>\n",
       "      <th>birds_x</th>\n",
       "      <th>birds_y</th>\n",
       "    </tr>\n",
       "  </thead>\n",
       "  <tbody>\n",
       "    <tr>\n",
       "      <th>240</th>\n",
       "      <td>11254_COR_5</td>\n",
       "      <td>COR</td>\n",
       "      <td>11254</td>\n",
       "      <td>5</td>\n",
       "      <td>rubwre1</td>\n",
       "      <td>burwar1</td>\n",
       "    </tr>\n",
       "    <tr>\n",
       "      <th>242</th>\n",
       "      <td>11254_COR_15</td>\n",
       "      <td>COR</td>\n",
       "      <td>11254</td>\n",
       "      <td>15</td>\n",
       "      <td>rubwre1</td>\n",
       "      <td>nocall</td>\n",
       "    </tr>\n",
       "    <tr>\n",
       "      <th>244</th>\n",
       "      <td>11254_COR_25</td>\n",
       "      <td>COR</td>\n",
       "      <td>11254</td>\n",
       "      <td>25</td>\n",
       "      <td>rubwre1</td>\n",
       "      <td>nocall</td>\n",
       "    </tr>\n",
       "    <tr>\n",
       "      <th>267</th>\n",
       "      <td>11254_COR_140</td>\n",
       "      <td>COR</td>\n",
       "      <td>11254</td>\n",
       "      <td>140</td>\n",
       "      <td>obnthr1</td>\n",
       "      <td>nocall</td>\n",
       "    </tr>\n",
       "    <tr>\n",
       "      <th>268</th>\n",
       "      <td>11254_COR_145</td>\n",
       "      <td>COR</td>\n",
       "      <td>11254</td>\n",
       "      <td>145</td>\n",
       "      <td>obnthr1</td>\n",
       "      <td>nocall</td>\n",
       "    </tr>\n",
       "    <tr>\n",
       "      <th>...</th>\n",
       "      <td>...</td>\n",
       "      <td>...</td>\n",
       "      <td>...</td>\n",
       "      <td>...</td>\n",
       "      <td>...</td>\n",
       "      <td>...</td>\n",
       "    </tr>\n",
       "    <tr>\n",
       "      <th>2391</th>\n",
       "      <td>54955_SSW_560</td>\n",
       "      <td>SSW</td>\n",
       "      <td>54955</td>\n",
       "      <td>560</td>\n",
       "      <td>grycat</td>\n",
       "      <td>nocall</td>\n",
       "    </tr>\n",
       "    <tr>\n",
       "      <th>2393</th>\n",
       "      <td>54955_SSW_570</td>\n",
       "      <td>SSW</td>\n",
       "      <td>54955</td>\n",
       "      <td>570</td>\n",
       "      <td>grycat</td>\n",
       "      <td>nocall</td>\n",
       "    </tr>\n",
       "    <tr>\n",
       "      <th>2394</th>\n",
       "      <td>54955_SSW_575</td>\n",
       "      <td>SSW</td>\n",
       "      <td>54955</td>\n",
       "      <td>575</td>\n",
       "      <td>chswar</td>\n",
       "      <td>nocall</td>\n",
       "    </tr>\n",
       "    <tr>\n",
       "      <th>2396</th>\n",
       "      <td>54955_SSW_585</td>\n",
       "      <td>SSW</td>\n",
       "      <td>54955</td>\n",
       "      <td>585</td>\n",
       "      <td>grycat</td>\n",
       "      <td>nocall</td>\n",
       "    </tr>\n",
       "    <tr>\n",
       "      <th>2397</th>\n",
       "      <td>54955_SSW_590</td>\n",
       "      <td>SSW</td>\n",
       "      <td>54955</td>\n",
       "      <td>590</td>\n",
       "      <td>grycat</td>\n",
       "      <td>nocall</td>\n",
       "    </tr>\n",
       "  </tbody>\n",
       "</table>\n",
       "<p>871 rows × 6 columns</p>\n",
       "</div>"
      ],
      "text/plain": [
       "             row_id site  audio_id  seconds  birds_x  birds_y\n",
       "240     11254_COR_5  COR     11254        5  rubwre1  burwar1\n",
       "242    11254_COR_15  COR     11254       15  rubwre1   nocall\n",
       "244    11254_COR_25  COR     11254       25  rubwre1   nocall\n",
       "267   11254_COR_140  COR     11254      140  obnthr1   nocall\n",
       "268   11254_COR_145  COR     11254      145  obnthr1   nocall\n",
       "...             ...  ...       ...      ...      ...      ...\n",
       "2391  54955_SSW_560  SSW     54955      560   grycat   nocall\n",
       "2393  54955_SSW_570  SSW     54955      570   grycat   nocall\n",
       "2394  54955_SSW_575  SSW     54955      575   chswar   nocall\n",
       "2396  54955_SSW_585  SSW     54955      585   grycat   nocall\n",
       "2397  54955_SSW_590  SSW     54955      590   grycat   nocall\n",
       "\n",
       "[871 rows x 6 columns]"
      ]
     },
     "execution_count": 26,
     "metadata": {},
     "output_type": "execute_result"
    }
   ],
   "source": [
    "sub_target[sub_target.birds_x != \"nocall\"]"
   ]
  }
 ],
 "metadata": {
  "kernelspec": {
   "display_name": "Python 3",
   "language": "python",
   "name": "python3"
  },
  "language_info": {
   "codemirror_mode": {
    "name": "ipython",
    "version": 3
   },
   "file_extension": ".py",
   "mimetype": "text/x-python",
   "name": "python",
   "nbconvert_exporter": "python",
   "pygments_lexer": "ipython3",
   "version": "3.7.9"
  },
  "papermill": {
   "default_parameters": {},
   "duration": 138.476879,
   "end_time": "2021-06-01T03:25:22.031825",
   "environment_variables": {},
   "exception": null,
   "input_path": "__notebook__.ipynb",
   "output_path": "__notebook__.ipynb",
   "parameters": {},
   "start_time": "2021-06-01T03:23:03.554946",
   "version": "2.3.2"
  },
  "widgets": {
   "application/vnd.jupyter.widget-state+json": {
    "state": {
     "052ae609d7a04d75bcd57a016979acce": {
      "model_module": "@jupyter-widgets/controls",
      "model_module_version": "1.5.0",
      "model_name": "DescriptionStyleModel",
      "state": {
       "_model_module": "@jupyter-widgets/controls",
       "_model_module_version": "1.5.0",
       "_model_name": "DescriptionStyleModel",
       "_view_count": null,
       "_view_module": "@jupyter-widgets/base",
       "_view_module_version": "1.2.0",
       "_view_name": "StyleView",
       "description_width": ""
      }
     },
     "0f67a4bf3a084af08afc739c74ecdf89": {
      "model_module": "@jupyter-widgets/base",
      "model_module_version": "1.2.0",
      "model_name": "LayoutModel",
      "state": {
       "_model_module": "@jupyter-widgets/base",
       "_model_module_version": "1.2.0",
       "_model_name": "LayoutModel",
       "_view_count": null,
       "_view_module": "@jupyter-widgets/base",
       "_view_module_version": "1.2.0",
       "_view_name": "LayoutView",
       "align_content": null,
       "align_items": null,
       "align_self": null,
       "border": null,
       "bottom": null,
       "display": null,
       "flex": null,
       "flex_flow": null,
       "grid_area": null,
       "grid_auto_columns": null,
       "grid_auto_flow": null,
       "grid_auto_rows": null,
       "grid_column": null,
       "grid_gap": null,
       "grid_row": null,
       "grid_template_areas": null,
       "grid_template_columns": null,
       "grid_template_rows": null,
       "height": null,
       "justify_content": null,
       "justify_items": null,
       "left": null,
       "margin": null,
       "max_height": null,
       "max_width": null,
       "min_height": null,
       "min_width": null,
       "object_fit": null,
       "object_position": null,
       "order": null,
       "overflow": null,
       "overflow_x": null,
       "overflow_y": null,
       "padding": null,
       "right": null,
       "top": null,
       "visibility": null,
       "width": null
      }
     },
     "11e61c47fd31419d82c17f190b98b793": {
      "model_module": "@jupyter-widgets/controls",
      "model_module_version": "1.5.0",
      "model_name": "HBoxModel",
      "state": {
       "_dom_classes": [],
       "_model_module": "@jupyter-widgets/controls",
       "_model_module_version": "1.5.0",
       "_model_name": "HBoxModel",
       "_view_count": null,
       "_view_module": "@jupyter-widgets/controls",
       "_view_module_version": "1.5.0",
       "_view_name": "HBoxView",
       "box_style": "",
       "children": [
        "IPY_MODEL_6661bd4d473642738963c52ed40260ba",
        "IPY_MODEL_36fd80aa5aa242a28767660447e7c827",
        "IPY_MODEL_cd882469384241c1bc8ea7cb0d670316"
       ],
       "layout": "IPY_MODEL_ded826db2fb14ef6bfbab0c410d06c4d"
      }
     },
     "3300530e987741be920f7d424c8712c2": {
      "model_module": "@jupyter-widgets/controls",
      "model_module_version": "1.5.0",
      "model_name": "DescriptionStyleModel",
      "state": {
       "_model_module": "@jupyter-widgets/controls",
       "_model_module_version": "1.5.0",
       "_model_name": "DescriptionStyleModel",
       "_view_count": null,
       "_view_module": "@jupyter-widgets/base",
       "_view_module_version": "1.2.0",
       "_view_name": "StyleView",
       "description_width": ""
      }
     },
     "36fd80aa5aa242a28767660447e7c827": {
      "model_module": "@jupyter-widgets/controls",
      "model_module_version": "1.5.0",
      "model_name": "FloatProgressModel",
      "state": {
       "_dom_classes": [],
       "_model_module": "@jupyter-widgets/controls",
       "_model_module_version": "1.5.0",
       "_model_name": "FloatProgressModel",
       "_view_count": null,
       "_view_module": "@jupyter-widgets/controls",
       "_view_module_version": "1.5.0",
       "_view_name": "ProgressView",
       "bar_style": "success",
       "description": "",
       "description_tooltip": null,
       "layout": "IPY_MODEL_e682adb97eab4657b3260c1f7cf50ee4",
       "max": 20.0,
       "min": 0.0,
       "orientation": "horizontal",
       "style": "IPY_MODEL_b4dc60d9caef43df833bbb6d7ee004d1",
       "value": 20.0
      }
     },
     "6661bd4d473642738963c52ed40260ba": {
      "model_module": "@jupyter-widgets/controls",
      "model_module_version": "1.5.0",
      "model_name": "HTMLModel",
      "state": {
       "_dom_classes": [],
       "_model_module": "@jupyter-widgets/controls",
       "_model_module_version": "1.5.0",
       "_model_name": "HTMLModel",
       "_view_count": null,
       "_view_module": "@jupyter-widgets/controls",
       "_view_module_version": "1.5.0",
       "_view_name": "HTMLView",
       "description": "",
       "description_tooltip": null,
       "layout": "IPY_MODEL_0f67a4bf3a084af08afc739c74ecdf89",
       "placeholder": "​",
       "style": "IPY_MODEL_3300530e987741be920f7d424c8712c2",
       "value": "100%"
      }
     },
     "b4dc60d9caef43df833bbb6d7ee004d1": {
      "model_module": "@jupyter-widgets/controls",
      "model_module_version": "1.5.0",
      "model_name": "ProgressStyleModel",
      "state": {
       "_model_module": "@jupyter-widgets/controls",
       "_model_module_version": "1.5.0",
       "_model_name": "ProgressStyleModel",
       "_view_count": null,
       "_view_module": "@jupyter-widgets/base",
       "_view_module_version": "1.2.0",
       "_view_name": "StyleView",
       "bar_color": null,
       "description_width": ""
      }
     },
     "cd882469384241c1bc8ea7cb0d670316": {
      "model_module": "@jupyter-widgets/controls",
      "model_module_version": "1.5.0",
      "model_name": "HTMLModel",
      "state": {
       "_dom_classes": [],
       "_model_module": "@jupyter-widgets/controls",
       "_model_module_version": "1.5.0",
       "_model_name": "HTMLModel",
       "_view_count": null,
       "_view_module": "@jupyter-widgets/controls",
       "_view_module_version": "1.5.0",
       "_view_name": "HTMLView",
       "description": "",
       "description_tooltip": null,
       "layout": "IPY_MODEL_fc7eef15badb479090d1b67297f50f57",
       "placeholder": "​",
       "style": "IPY_MODEL_052ae609d7a04d75bcd57a016979acce",
       "value": " 20/20 [01:18&lt;00:00,  3.86s/it]"
      }
     },
     "ded826db2fb14ef6bfbab0c410d06c4d": {
      "model_module": "@jupyter-widgets/base",
      "model_module_version": "1.2.0",
      "model_name": "LayoutModel",
      "state": {
       "_model_module": "@jupyter-widgets/base",
       "_model_module_version": "1.2.0",
       "_model_name": "LayoutModel",
       "_view_count": null,
       "_view_module": "@jupyter-widgets/base",
       "_view_module_version": "1.2.0",
       "_view_name": "LayoutView",
       "align_content": null,
       "align_items": null,
       "align_self": null,
       "border": null,
       "bottom": null,
       "display": null,
       "flex": null,
       "flex_flow": null,
       "grid_area": null,
       "grid_auto_columns": null,
       "grid_auto_flow": null,
       "grid_auto_rows": null,
       "grid_column": null,
       "grid_gap": null,
       "grid_row": null,
       "grid_template_areas": null,
       "grid_template_columns": null,
       "grid_template_rows": null,
       "height": null,
       "justify_content": null,
       "justify_items": null,
       "left": null,
       "margin": null,
       "max_height": null,
       "max_width": null,
       "min_height": null,
       "min_width": null,
       "object_fit": null,
       "object_position": null,
       "order": null,
       "overflow": null,
       "overflow_x": null,
       "overflow_y": null,
       "padding": null,
       "right": null,
       "top": null,
       "visibility": null,
       "width": null
      }
     },
     "e682adb97eab4657b3260c1f7cf50ee4": {
      "model_module": "@jupyter-widgets/base",
      "model_module_version": "1.2.0",
      "model_name": "LayoutModel",
      "state": {
       "_model_module": "@jupyter-widgets/base",
       "_model_module_version": "1.2.0",
       "_model_name": "LayoutModel",
       "_view_count": null,
       "_view_module": "@jupyter-widgets/base",
       "_view_module_version": "1.2.0",
       "_view_name": "LayoutView",
       "align_content": null,
       "align_items": null,
       "align_self": null,
       "border": null,
       "bottom": null,
       "display": null,
       "flex": null,
       "flex_flow": null,
       "grid_area": null,
       "grid_auto_columns": null,
       "grid_auto_flow": null,
       "grid_auto_rows": null,
       "grid_column": null,
       "grid_gap": null,
       "grid_row": null,
       "grid_template_areas": null,
       "grid_template_columns": null,
       "grid_template_rows": null,
       "height": null,
       "justify_content": null,
       "justify_items": null,
       "left": null,
       "margin": null,
       "max_height": null,
       "max_width": null,
       "min_height": null,
       "min_width": null,
       "object_fit": null,
       "object_position": null,
       "order": null,
       "overflow": null,
       "overflow_x": null,
       "overflow_y": null,
       "padding": null,
       "right": null,
       "top": null,
       "visibility": null,
       "width": null
      }
     },
     "fc7eef15badb479090d1b67297f50f57": {
      "model_module": "@jupyter-widgets/base",
      "model_module_version": "1.2.0",
      "model_name": "LayoutModel",
      "state": {
       "_model_module": "@jupyter-widgets/base",
       "_model_module_version": "1.2.0",
       "_model_name": "LayoutModel",
       "_view_count": null,
       "_view_module": "@jupyter-widgets/base",
       "_view_module_version": "1.2.0",
       "_view_name": "LayoutView",
       "align_content": null,
       "align_items": null,
       "align_self": null,
       "border": null,
       "bottom": null,
       "display": null,
       "flex": null,
       "flex_flow": null,
       "grid_area": null,
       "grid_auto_columns": null,
       "grid_auto_flow": null,
       "grid_auto_rows": null,
       "grid_column": null,
       "grid_gap": null,
       "grid_row": null,
       "grid_template_areas": null,
       "grid_template_columns": null,
       "grid_template_rows": null,
       "height": null,
       "justify_content": null,
       "justify_items": null,
       "left": null,
       "margin": null,
       "max_height": null,
       "max_width": null,
       "min_height": null,
       "min_width": null,
       "object_fit": null,
       "object_position": null,
       "order": null,
       "overflow": null,
       "overflow_x": null,
       "overflow_y": null,
       "padding": null,
       "right": null,
       "top": null,
       "visibility": null,
       "width": null
      }
     }
    },
    "version_major": 2,
    "version_minor": 0
   }
  }
 },
 "nbformat": 4,
 "nbformat_minor": 5
}
