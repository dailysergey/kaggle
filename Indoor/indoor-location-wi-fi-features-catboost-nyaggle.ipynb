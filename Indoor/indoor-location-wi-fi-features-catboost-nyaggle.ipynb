{
 "cells": [
  {
   "cell_type": "markdown",
   "metadata": {
    "papermill": {
     "duration": 0.005701,
     "end_time": "2021-04-04T20:15:49.108098",
     "exception": false,
     "start_time": "2021-04-04T20:15:49.102397",
     "status": "completed"
    },
    "tags": []
   },
   "source": [
    "This predictor uses \"Indoor Navigation and Location Wifi Features\" data by [@hiro5299834](https://www.kaggle.com/hiro5299834), which is based on data by [@devinanzelmo](https://www.kaggle.com/devinanzelmo)."
   ]
  },
  {
   "cell_type": "code",
   "execution_count": 1,
   "metadata": {
    "_cell_guid": "b1076dfc-b9ad-4769-8c92-a6c4dae69d19",
    "_uuid": "8f2839f25d086af736a60e9eeb907d3b93b6e0e5",
    "execution": {
     "iopub.execute_input": "2021-04-04T20:15:49.123896Z",
     "iopub.status.busy": "2021-04-04T20:15:49.123153Z",
     "iopub.status.idle": "2021-04-04T20:15:49.455038Z",
     "shell.execute_reply": "2021-04-04T20:15:49.454293Z"
    },
    "papermill": {
     "duration": 0.342276,
     "end_time": "2021-04-04T20:15:49.455259",
     "exception": false,
     "start_time": "2021-04-04T20:15:49.112983",
     "status": "completed"
    },
    "tags": []
   },
   "outputs": [],
   "source": [
    "import numpy as np # linear algebra\n",
    "import pandas as pd # data processing, CSV file I/O (e.g. pd.read_csv)\n",
    "import os, glob\n",
    "from catboost import CatBoostClassifier, CatBoostRegressor"
   ]
  },
  {
   "cell_type": "code",
   "execution_count": 2,
   "metadata": {
    "execution": {
     "iopub.execute_input": "2021-04-04T20:15:49.471631Z",
     "iopub.status.busy": "2021-04-04T20:15:49.470841Z",
     "iopub.status.idle": "2021-04-04T20:15:49.537807Z",
     "shell.execute_reply": "2021-04-04T20:15:49.537097Z"
    },
    "papermill": {
     "duration": 0.076845,
     "end_time": "2021-04-04T20:15:49.537955",
     "exception": false,
     "start_time": "2021-04-04T20:15:49.461110",
     "status": "completed"
    },
    "tags": []
   },
   "outputs": [
    {
     "data": {
      "text/html": [
       "<div>\n",
       "<style scoped>\n",
       "    .dataframe tbody tr th:only-of-type {\n",
       "        vertical-align: middle;\n",
       "    }\n",
       "\n",
       "    .dataframe tbody tr th {\n",
       "        vertical-align: top;\n",
       "    }\n",
       "\n",
       "    .dataframe thead th {\n",
       "        text-align: right;\n",
       "    }\n",
       "</style>\n",
       "<table border=\"1\" class=\"dataframe\">\n",
       "  <thead>\n",
       "    <tr style=\"text-align: right;\">\n",
       "      <th></th>\n",
       "      <th>site_path_timestamp</th>\n",
       "      <th>floor</th>\n",
       "      <th>x</th>\n",
       "      <th>y</th>\n",
       "    </tr>\n",
       "  </thead>\n",
       "  <tbody>\n",
       "    <tr>\n",
       "      <th>0</th>\n",
       "      <td>5a0546857ecc773753327266_046cfa46be49fc1083481...</td>\n",
       "      <td>0</td>\n",
       "      <td>75.0</td>\n",
       "      <td>75.0</td>\n",
       "    </tr>\n",
       "    <tr>\n",
       "      <th>1</th>\n",
       "      <td>5a0546857ecc773753327266_046cfa46be49fc1083481...</td>\n",
       "      <td>0</td>\n",
       "      <td>75.0</td>\n",
       "      <td>75.0</td>\n",
       "    </tr>\n",
       "    <tr>\n",
       "      <th>2</th>\n",
       "      <td>5a0546857ecc773753327266_046cfa46be49fc1083481...</td>\n",
       "      <td>0</td>\n",
       "      <td>75.0</td>\n",
       "      <td>75.0</td>\n",
       "    </tr>\n",
       "    <tr>\n",
       "      <th>3</th>\n",
       "      <td>5a0546857ecc773753327266_046cfa46be49fc1083481...</td>\n",
       "      <td>0</td>\n",
       "      <td>75.0</td>\n",
       "      <td>75.0</td>\n",
       "    </tr>\n",
       "    <tr>\n",
       "      <th>4</th>\n",
       "      <td>5a0546857ecc773753327266_046cfa46be49fc1083481...</td>\n",
       "      <td>0</td>\n",
       "      <td>75.0</td>\n",
       "      <td>75.0</td>\n",
       "    </tr>\n",
       "  </tbody>\n",
       "</table>\n",
       "</div>"
      ],
      "text/plain": [
       "                                 site_path_timestamp  floor     x     y\n",
       "0  5a0546857ecc773753327266_046cfa46be49fc1083481...      0  75.0  75.0\n",
       "1  5a0546857ecc773753327266_046cfa46be49fc1083481...      0  75.0  75.0\n",
       "2  5a0546857ecc773753327266_046cfa46be49fc1083481...      0  75.0  75.0\n",
       "3  5a0546857ecc773753327266_046cfa46be49fc1083481...      0  75.0  75.0\n",
       "4  5a0546857ecc773753327266_046cfa46be49fc1083481...      0  75.0  75.0"
      ]
     },
     "execution_count": 2,
     "metadata": {},
     "output_type": "execute_result"
    }
   ],
   "source": [
    "test_df = pd.read_csv('../input/indoor-location-navigation/sample_submission.csv')\n",
    "test_df.head()"
   ]
  },
  {
   "cell_type": "code",
   "execution_count": 3,
   "metadata": {
    "execution": {
     "iopub.execute_input": "2021-04-04T20:15:49.555563Z",
     "iopub.status.busy": "2021-04-04T20:15:49.554853Z",
     "iopub.status.idle": "2021-04-04T20:15:49.595182Z",
     "shell.execute_reply": "2021-04-04T20:15:49.594563Z"
    },
    "papermill": {
     "duration": 0.051428,
     "end_time": "2021-04-04T20:15:49.595336",
     "exception": false,
     "start_time": "2021-04-04T20:15:49.543908",
     "status": "completed"
    },
    "tags": []
   },
   "outputs": [],
   "source": [
    "feature_dir = \"../input/indoor-navigation-and-location-wifi-features\"\n",
    "train_files = sorted(glob.glob(os.path.join(feature_dir, '*_train.csv')))\n",
    "test_files = sorted(glob.glob(os.path.join(feature_dir, '*_test.csv')))\n",
    "test_df['site'] = test_df['site_path_timestamp'].apply(lambda x: x.split('_')[0])"
   ]
  },
  {
   "cell_type": "code",
   "execution_count": 4,
   "metadata": {
    "execution": {
     "iopub.execute_input": "2021-04-04T20:15:49.625594Z",
     "iopub.status.busy": "2021-04-04T20:15:49.624862Z",
     "iopub.status.idle": "2021-04-05T00:14:33.061660Z",
     "shell.execute_reply": "2021-04-05T00:14:33.062356Z"
    },
    "papermill": {
     "duration": 14323.459281,
     "end_time": "2021-04-05T00:14:33.063004",
     "exception": false,
     "start_time": "2021-04-04T20:15:49.603723",
     "status": "completed"
    },
    "tags": []
   },
   "outputs": [],
   "source": [
    "for i, site in enumerate(test_df['site'].unique()):\n",
    "    train_data = pd.read_csv(train_files[i], index_col=0)\n",
    "    test_data = pd.read_csv(test_files[i], index_col=0)\n",
    "    X_train = train_data.drop(['x', 'y', 'f', 'path'], axis=1)\n",
    "    X_test = test_data.drop(['site_path_timestamp'], axis=1)\n",
    "\n",
    "    f_model = CatBoostClassifier(verbose=False)\n",
    "    f_model.fit(X_train, train_data['f'])\n",
    "    test_df.loc[test_df['site']==site, 'floor'] = f_model.predict(X_test)\n",
    "\n",
    "    model = CatBoostRegressor(verbose=False, \n",
    "                              objective='RMSE',\n",
    "                              learning_rate=0.01,\n",
    "                              bagging_temperature=0.8,\n",
    "                              l2_leaf_reg=45,\n",
    "                              od_type='Iter',\n",
    "                              depth=8)\n",
    "\n",
    "    model.fit(X_train, train_data['x'])\n",
    "    test_df.loc[test_df['site']==site, 'x'] = model.predict(X_test)\n",
    "\n",
    "    model.fit(X_train, train_data['y'])\n",
    "    test_df.loc[test_df['site']==site, 'y'] = model.predict(X_test)"
   ]
  },
  {
   "cell_type": "code",
   "execution_count": 5,
   "metadata": {
    "execution": {
     "iopub.execute_input": "2021-04-05T00:14:33.091687Z",
     "iopub.status.busy": "2021-04-05T00:14:33.090704Z",
     "iopub.status.idle": "2021-04-05T00:14:33.197401Z",
     "shell.execute_reply": "2021-04-05T00:14:33.198065Z"
    },
    "papermill": {
     "duration": 0.126765,
     "end_time": "2021-04-05T00:14:33.198254",
     "exception": false,
     "start_time": "2021-04-05T00:14:33.071489",
     "status": "completed"
    },
    "tags": []
   },
   "outputs": [
    {
     "data": {
      "text/html": [
       "<div>\n",
       "<style scoped>\n",
       "    .dataframe tbody tr th:only-of-type {\n",
       "        vertical-align: middle;\n",
       "    }\n",
       "\n",
       "    .dataframe tbody tr th {\n",
       "        vertical-align: top;\n",
       "    }\n",
       "\n",
       "    .dataframe thead th {\n",
       "        text-align: right;\n",
       "    }\n",
       "</style>\n",
       "<table border=\"1\" class=\"dataframe\">\n",
       "  <thead>\n",
       "    <tr style=\"text-align: right;\">\n",
       "      <th></th>\n",
       "      <th>site_path_timestamp</th>\n",
       "      <th>floor</th>\n",
       "      <th>x</th>\n",
       "      <th>y</th>\n",
       "      <th>site</th>\n",
       "    </tr>\n",
       "  </thead>\n",
       "  <tbody>\n",
       "    <tr>\n",
       "      <th>0</th>\n",
       "      <td>5a0546857ecc773753327266_046cfa46be49fc1083481...</td>\n",
       "      <td>0</td>\n",
       "      <td>95.318784</td>\n",
       "      <td>99.157655</td>\n",
       "      <td>5a0546857ecc773753327266</td>\n",
       "    </tr>\n",
       "    <tr>\n",
       "      <th>1</th>\n",
       "      <td>5a0546857ecc773753327266_046cfa46be49fc1083481...</td>\n",
       "      <td>0</td>\n",
       "      <td>93.882667</td>\n",
       "      <td>99.375577</td>\n",
       "      <td>5a0546857ecc773753327266</td>\n",
       "    </tr>\n",
       "    <tr>\n",
       "      <th>2</th>\n",
       "      <td>5a0546857ecc773753327266_046cfa46be49fc1083481...</td>\n",
       "      <td>0</td>\n",
       "      <td>92.713153</td>\n",
       "      <td>102.027438</td>\n",
       "      <td>5a0546857ecc773753327266</td>\n",
       "    </tr>\n",
       "    <tr>\n",
       "      <th>3</th>\n",
       "      <td>5a0546857ecc773753327266_046cfa46be49fc1083481...</td>\n",
       "      <td>0</td>\n",
       "      <td>92.789777</td>\n",
       "      <td>101.751543</td>\n",
       "      <td>5a0546857ecc773753327266</td>\n",
       "    </tr>\n",
       "    <tr>\n",
       "      <th>4</th>\n",
       "      <td>5a0546857ecc773753327266_046cfa46be49fc1083481...</td>\n",
       "      <td>0</td>\n",
       "      <td>93.204939</td>\n",
       "      <td>107.135042</td>\n",
       "      <td>5a0546857ecc773753327266</td>\n",
       "    </tr>\n",
       "  </tbody>\n",
       "</table>\n",
       "</div>"
      ],
      "text/plain": [
       "                                 site_path_timestamp  floor          x  \\\n",
       "0  5a0546857ecc773753327266_046cfa46be49fc1083481...      0  95.318784   \n",
       "1  5a0546857ecc773753327266_046cfa46be49fc1083481...      0  93.882667   \n",
       "2  5a0546857ecc773753327266_046cfa46be49fc1083481...      0  92.713153   \n",
       "3  5a0546857ecc773753327266_046cfa46be49fc1083481...      0  92.789777   \n",
       "4  5a0546857ecc773753327266_046cfa46be49fc1083481...      0  93.204939   \n",
       "\n",
       "            y                      site  \n",
       "0   99.157655  5a0546857ecc773753327266  \n",
       "1   99.375577  5a0546857ecc773753327266  \n",
       "2  102.027438  5a0546857ecc773753327266  \n",
       "3  101.751543  5a0546857ecc773753327266  \n",
       "4  107.135042  5a0546857ecc773753327266  "
      ]
     },
     "execution_count": 5,
     "metadata": {},
     "output_type": "execute_result"
    }
   ],
   "source": [
    "test_df.drop(['site'], axis=1).to_csv('submission_catboost_nyaggle.csv', index=None)\n",
    "test_df.head()"
   ]
  }
 ],
 "metadata": {
  "kernelspec": {
   "display_name": "Python 3",
   "language": "python",
   "name": "python3"
  },
  "language_info": {
   "codemirror_mode": {
    "name": "ipython",
    "version": 3
   },
   "file_extension": ".py",
   "mimetype": "text/x-python",
   "name": "python",
   "nbconvert_exporter": "python",
   "pygments_lexer": "ipython3",
   "version": "3.7.9"
  },
  "papermill": {
   "default_parameters": {},
   "duration": 14331.41794,
   "end_time": "2021-04-05T00:14:34.118157",
   "environment_variables": {},
   "exception": null,
   "input_path": "__notebook__.ipynb",
   "output_path": "__notebook__.ipynb",
   "parameters": {},
   "start_time": "2021-04-04T20:15:42.700217",
   "version": "2.2.2"
  }
 },
 "nbformat": 4,
 "nbformat_minor": 4
}
